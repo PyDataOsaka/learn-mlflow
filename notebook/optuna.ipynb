{
 "cells": [
  {
   "cell_type": "markdown",
   "metadata": {},
   "source": [
    "このノートブックではOptunaの使い方を確認します."
   ]
  },
  {
   "cell_type": "code",
   "execution_count": 1,
   "metadata": {},
   "outputs": [],
   "source": [
    "from typing import Any, Dict\n",
    "import category_encoders as ce\n",
    "import seaborn as sns\n",
    "from sklearn.model_selection import train_test_split\n",
    "from sklearn.metrics import f1_score\n",
    "from sklearn.pipeline import Pipeline, make_pipeline\n",
    "from sklearn.model_selection import cross_val_score\n",
    "from catboost import CatBoostClassifier\n",
    "from pandas import DataFrame\n",
    "import optuna\n",
    "\n",
    "df = sns.load_dataset('titanic')\n",
    "df.head()\n",
    "\n",
    "# 必要な特徴量を抽出\n",
    "feature_names = [\n",
    "    'class',\n",
    "    'sex',\n",
    "    'age',\n",
    "    'sibsp',\n",
    "    'parch',\n",
    "    'fare',\n",
    "    'embark_town',\n",
    "    'deck',\n",
    "]\n",
    "df_x = df[feature_names]\n",
    "df_y = df['survived']\n"
   ]
  },
  {
   "cell_type": "markdown",
   "metadata": {},
   "source": [
    "データを訓練データとテストデータに分割します. テストデータはハイパーパラメータ最適化には使用せず, 最適なハイパーパラメータで訓練されたモデルを評価するために使用されます."
   ]
  },
  {
   "cell_type": "code",
   "execution_count": 2,
   "metadata": {},
   "outputs": [],
   "source": [
    "x_tr, x_te, y_tr, y_te = train_test_split(df_x, df_y, test_size=0.33, shuffle=True, random_state=42)"
   ]
  },
  {
   "cell_type": "markdown",
   "metadata": {},
   "source": [
    "Optunaは目的関数に対してベイズ最適化を適用します.\n",
    "目的関数はハイパーパラメータを受け取り, そのハイパーパラメータで訓練されたモデルの性能指標を返します.\n",
    "まず, Catboostのハイパーパラメータの探索範囲を決める関数を作成します."
   ]
  },
  {
   "cell_type": "code",
   "execution_count": 3,
   "metadata": {},
   "outputs": [],
   "source": [
    "def suggest_params(trial: optuna.Trial) -> Dict:\n",
    "    # Catboostの繰り返し回数\n",
    "    iterations = trial.suggest_categorical(\"iterations\", [200, 1000])\n",
    "\n",
    "    # cat_featuresは本来は列名のリストとして与えられますが,\n",
    "    # ここではログを表示した時の見やすさのために仮の値をセットしています.\n",
    "    cat_features = trial.suggest_categorical(\"cat_features\", [\"none\", \"given\"])\n",
    "\n",
    "    return {\n",
    "        \"iterations\": iterations,\n",
    "        \"cat_features\": cat_features,\n",
    "    }"
   ]
  },
  {
   "cell_type": "markdown",
   "metadata": {},
   "source": [
    "次に, 与えられたデータに対して目的関数を返す関数を定義します."
   ]
  },
  {
   "cell_type": "code",
   "execution_count": 4,
   "metadata": {},
   "outputs": [],
   "source": [
    "def create_objective(x: DataFrame, y: DataFrame) -> Any:  # 戻り値の型は後で書く\n",
    "    cols = ['class', 'sex', 'embark_town', 'deck']\n",
    "\n",
    "    # 各列に全ての取り得るユニークな値が含まれるとは限らないため良くない方法ですが\n",
    "    # 簡単さのためにこのようにしています\n",
    "    encoder = ce.OrdinalEncoder(cols=cols, handle_unknown='impute')\n",
    "\n",
    "    def objective(trial: optuna.Trial) -> Any:  # 戻り値の型は後で書く\n",
    "        params = suggest_params(trial)\n",
    "\n",
    "        # cat_featuresを正しい値に設定\n",
    "        cat_features = None if params[\"cat_features\"] == \"none\" else cols\n",
    "        params[\"cat_features\"] = cat_features\n",
    "\n",
    "        # パイプラインを構成\n",
    "        clf = CatBoostClassifier(\n",
    "            **params,\n",
    "            verbose=False\n",
    "        )\n",
    "        pipe = make_pipeline(encoder, clf)\n",
    "\n",
    "        # スコアを計算\n",
    "        score = cross_val_score(pipe, x, y, cv=5).mean()\n",
    "\n",
    "        return score\n",
    "\n",
    "    return objective\n"
   ]
  },
  {
   "cell_type": "markdown",
   "metadata": {},
   "source": [
    "ベイズ最適化を実行します."
   ]
  },
  {
   "cell_type": "code",
   "execution_count": 7,
   "metadata": {},
   "outputs": [
    {
     "name": "stderr",
     "output_type": "stream",
     "text": [
      "\u001b[32m[I 2022-06-26 07:49:41,704]\u001b[0m A new study created in memory with name: no-name-15016f02-c22d-4ccc-bc1c-58fc84b71e15\u001b[0m\n",
      "/Users/taku-y/git/github/PyDataOsaka/learn-mlflow/venv/lib/python3.9/site-packages/optuna/progress_bar.py:47: ExperimentalWarning: Progress bar is experimental (supported from v1.2.0). The interface can change in the future.\n",
      "  self._init_valid()\n"
     ]
    },
    {
     "data": {
      "application/vnd.jupyter.widget-view+json": {
       "model_id": "867a22889d634b8e83a479f01947e745",
       "version_major": 2,
       "version_minor": 0
      },
      "text/plain": [
       "  0%|          | 0/10 [00:00<?, ?it/s]"
      ]
     },
     "metadata": {},
     "output_type": "display_data"
    },
    {
     "name": "stdout",
     "output_type": "stream",
     "text": [
      "\u001b[32m[I 2022-06-26 07:49:47,321]\u001b[0m Trial 0 finished with value: 0.8159374803841567 and parameters: {'iterations': 1000, 'cat_features': 'given'}. Best is trial 0 with value: 0.8159374803841567.\u001b[0m\n",
      "\u001b[32m[I 2022-06-26 07:49:47,980]\u001b[0m Trial 1 finished with value: 0.8226916075575922 and parameters: {'iterations': 200, 'cat_features': 'none'}. Best is trial 1 with value: 0.8226916075575922.\u001b[0m\n",
      "\u001b[32m[I 2022-06-26 07:49:53,331]\u001b[0m Trial 2 finished with value: 0.8159374803841567 and parameters: {'iterations': 1000, 'cat_features': 'given'}. Best is trial 1 with value: 0.8226916075575922.\u001b[0m\n",
      "\u001b[32m[I 2022-06-26 07:49:54,042]\u001b[0m Trial 3 finished with value: 0.8226916075575922 and parameters: {'iterations': 200, 'cat_features': 'none'}. Best is trial 1 with value: 0.8226916075575922.\u001b[0m\n",
      "\u001b[32m[I 2022-06-26 07:49:54,723]\u001b[0m Trial 4 finished with value: 0.8226916075575922 and parameters: {'iterations': 200, 'cat_features': 'none'}. Best is trial 1 with value: 0.8226916075575922.\u001b[0m\n",
      "\u001b[32m[I 2022-06-26 07:49:55,370]\u001b[0m Trial 5 finished with value: 0.8226916075575922 and parameters: {'iterations': 200, 'cat_features': 'none'}. Best is trial 1 with value: 0.8226916075575922.\u001b[0m\n",
      "\u001b[32m[I 2022-06-26 07:49:56,522]\u001b[0m Trial 6 finished with value: 0.8114556525014123 and parameters: {'iterations': 200, 'cat_features': 'given'}. Best is trial 1 with value: 0.8226916075575922.\u001b[0m\n",
      "\u001b[32m[I 2022-06-26 07:50:02,031]\u001b[0m Trial 7 finished with value: 0.8159374803841567 and parameters: {'iterations': 1000, 'cat_features': 'given'}. Best is trial 1 with value: 0.8226916075575922.\u001b[0m\n",
      "\u001b[32m[I 2022-06-26 07:50:04,869]\u001b[0m Trial 8 finished with value: 0.824938798568828 and parameters: {'iterations': 1000, 'cat_features': 'none'}. Best is trial 8 with value: 0.824938798568828.\u001b[0m\n",
      "\u001b[32m[I 2022-06-26 07:50:05,504]\u001b[0m Trial 9 finished with value: 0.8226916075575922 and parameters: {'iterations': 200, 'cat_features': 'none'}. Best is trial 8 with value: 0.824938798568828.\u001b[0m\n"
     ]
    }
   ],
   "source": [
    "objective = create_objective(df_x, df_y)\n",
    "study = optuna.create_study(direction='maximize')\n",
    "study.optimize(objective, n_trials=10, show_progress_bar=True)\n"
   ]
  },
  {
   "cell_type": "code",
   "execution_count": null,
   "metadata": {},
   "outputs": [],
   "source": []
  }
 ],
 "metadata": {
  "kernelspec": {
   "display_name": "Python 3.9.0 ('venv': venv)",
   "language": "python",
   "name": "python3"
  },
  "language_info": {
   "codemirror_mode": {
    "name": "ipython",
    "version": 3
   },
   "file_extension": ".py",
   "mimetype": "text/x-python",
   "name": "python",
   "nbconvert_exporter": "python",
   "pygments_lexer": "ipython3",
   "version": "3.9.0"
  },
  "orig_nbformat": 4,
  "vscode": {
   "interpreter": {
    "hash": "64aebdd2a36b33efcd222d355b6ea7c69913615117cddeedd055a16d2fc3e88d"
   }
  }
 },
 "nbformat": 4,
 "nbformat_minor": 2
}
