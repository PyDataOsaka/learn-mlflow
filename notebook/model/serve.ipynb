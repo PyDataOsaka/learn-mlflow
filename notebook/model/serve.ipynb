{
 "cells": [
  {
   "cell_type": "code",
   "execution_count": 1,
   "metadata": {},
   "outputs": [],
   "source": [
    "from typing import Any, Dict, Tuple, List\n",
    "import category_encoders as ce\n",
    "import seaborn as sns\n",
    "from sklearn.model_selection import train_test_split\n",
    "from sklearn.metrics import f1_score\n",
    "from sklearn.pipeline import Pipeline, make_pipeline\n",
    "from sklearn.model_selection import cross_val_score\n",
    "from catboost import CatBoostClassifier\n",
    "from pandas import DataFrame\n",
    "import optuna\n",
    "import mlflow\n",
    "from mlflow import pyfunc\n",
    "\n",
    "df = sns.load_dataset('titanic')\n",
    "df.head()\n",
    "\n",
    "# 必要な特徴量を抽出\n",
    "feature_names = [\n",
    "    'class',\n",
    "    'sex',\n",
    "    'age',\n",
    "    'sibsp',\n",
    "    'parch',\n",
    "    'fare',\n",
    "    'embark_town',\n",
    "    'deck',\n",
    "]\n",
    "df_x = df[feature_names]\n",
    "df_y = df['survived']\n",
    "\n",
    "\n",
    "x_tr, x_te, y_tr, y_te = train_test_split(df_x, df_y, test_size=0.33, shuffle=True, random_state=42)"
   ]
  },
  {
   "cell_type": "code",
   "execution_count": 2,
   "metadata": {},
   "outputs": [
    {
     "data": {
      "text/plain": [
       "0.7533632286995516"
      ]
     },
     "execution_count": 2,
     "metadata": {},
     "output_type": "execute_result"
    }
   ],
   "source": [
    "model_path = \"mlflow-custom-pyfunc-model\"\n",
    "model = pyfunc.load_model(model_path)\n",
    "y_te_pred = model.predict(x_te) > 0.5\n",
    "\n",
    "f1_score(y_te, y_te_pred)"
   ]
  },
  {
   "cell_type": "code",
   "execution_count": null,
   "metadata": {},
   "outputs": [],
   "source": []
  }
 ],
 "metadata": {
  "kernelspec": {
   "display_name": "Python 3.9.0 ('venv': venv)",
   "language": "python",
   "name": "python3"
  },
  "language_info": {
   "codemirror_mode": {
    "name": "ipython",
    "version": 3
   },
   "file_extension": ".py",
   "mimetype": "text/x-python",
   "name": "python",
   "nbconvert_exporter": "python",
   "pygments_lexer": "ipython3",
   "version": "3.9.0"
  },
  "orig_nbformat": 4,
  "vscode": {
   "interpreter": {
    "hash": "64aebdd2a36b33efcd222d355b6ea7c69913615117cddeedd055a16d2fc3e88d"
   }
  }
 },
 "nbformat": 4,
 "nbformat_minor": 2
}
