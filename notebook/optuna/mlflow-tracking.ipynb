{
 "cells": [
  {
   "cell_type": "markdown",
   "metadata": {},
   "source": [
    "このノートブックではMLFlow trackingの使い方を確認します."
   ]
  },
  {
   "cell_type": "code",
   "execution_count": 2,
   "metadata": {},
   "outputs": [],
   "source": [
    "from typing import Any, Dict, Tuple, List\n",
    "import category_encoders as ce\n",
    "import seaborn as sns\n",
    "from sklearn.model_selection import train_test_split\n",
    "from sklearn.metrics import f1_score\n",
    "from sklearn.pipeline import Pipeline, make_pipeline\n",
    "from sklearn.model_selection import cross_val_score\n",
    "from catboost import CatBoostClassifier\n",
    "from pandas import DataFrame\n",
    "import optuna\n",
    "import mlflow\n",
    "\n",
    "df = sns.load_dataset('titanic')\n",
    "df.head()\n",
    "\n",
    "# 必要な特徴量を抽出\n",
    "feature_names = [\n",
    "    'class',\n",
    "    'sex',\n",
    "    'age',\n",
    "    'sibsp',\n",
    "    'parch',\n",
    "    'fare',\n",
    "    'embark_town',\n",
    "    'deck',\n",
    "]\n",
    "df_x = df[feature_names]\n",
    "df_y = df['survived']\n",
    "\n",
    "class IntOrdEncoder(ce.OrdinalEncoder):\n",
    "    def __init__(self, cols, mapping, handle_unknown):\n",
    "        super().__init__(cols=cols, mapping=mapping, handle_unknown=handle_unknown)\n",
    "        self.cols = cols\n",
    "\n",
    "    def transform(self, *args, **kwargs):\n",
    "        \"\"\"xはpd.DataFrameです.\n",
    "        \"\"\"\n",
    "        x = super().transform(*args, **kwargs)\n",
    "        for col in self.cols:\n",
    "            x[col] = x[col].astype(int)\n",
    "\n",
    "        return x\n",
    "\n",
    "    def fit_transform(self, *args, **kwargs):\n",
    "        \"\"\"xはpd.DataFrameです.\n",
    "        \"\"\"\n",
    "        x = super().fit_transform(*args, **kwargs)\n",
    "        for col in self.cols:\n",
    "            x[col] = x[col].astype(int)\n",
    "\n",
    "        return x\n",
    "\n",
    "\n",
    "x_tr, x_te, y_tr, y_te = train_test_split(df_x, df_y, test_size=0.33, shuffle=True, random_state=42)\n",
    "\n",
    "\n",
    "def titanic_cat_encoder() -> Tuple[List[str], ce.OrdinalEncoder]:\n",
    "    cols = ['class', 'sex', 'embark_town', 'deck']\n",
    "    mapping = [\n",
    "        {\"col\": \"class\", \"mapping\": {\"First\": 0, \"Second\": 1, \"Third\": 2}},\n",
    "        {\"col\": \"sex\", \"mapping\": {\"male\": 0, \"female\": 1}},\n",
    "        {\"col\": \"embark_town\", \"mapping\": {\"Southampton\": 0, \"Cherbourg\": 1, \"Queenstown\": 2}},\n",
    "        {\"col\": \"deck\", \"mapping\": {\"A\": 0, \"B\": 1, \"C\": 2, \"D\": 3, \"E\": 4, \"F\": 5, \"G\": 6}},\n",
    "    ]\n",
    "    return (cols, IntOrdEncoder(cols=cols, mapping=mapping, handle_unknown='value'))"
   ]
  },
  {
   "cell_type": "markdown",
   "metadata": {},
   "source": [
    "MLFlow trackingは1回の実験をRunとして扱います. \n",
    "Runの単位は明記されていませんが, 教師あり学習の多くの例ではモデルの訓練と評価を1つのRunとします.\n",
    "MLFlowはRunの様々な情報を記録することができます.\n",
    "記録する値は複数の種類に分類され, それぞれ専用の関数が用意されています.\n",
    "代表的なものがパラメータとメトリクスで, それぞれ`log_param()`と`log_metric()`で記録できます.\n",
    "\n",
    "最も簡単な方法では, Runはコンテキストマネージャで管理されます.\n",
    "また, Runはネストすることが可能で, 以下の例では複数のハイパーパラメータに対する訓練と評価をまとめて1つのRunとして扱います.\n",
    "そのために, 引数`nested`を用いて訓練と評価のRunを実行する関数を定義します.\n",
    "この関数の中で下位のRunが実行されます."
   ]
  },
  {
   "cell_type": "code",
   "execution_count": 8,
   "metadata": {},
   "outputs": [],
   "source": [
    "def fit_eval(x, y, encoder, params, cols, nested):\n",
    "    with mlflow.start_run(nested=nested):\n",
    "        mlflow.log_param(\"iterations\", params[\"iterations\"])\n",
    "        mlflow.log_param(\"cat_features\", params[\"cat_features\"])\n",
    "\n",
    "        # cat_featuresを正しい値に設定\n",
    "        cat_features = None if params[\"cat_features\"] == \"none\" else cols\n",
    "        params[\"cat_features\"] = cat_features\n",
    "\n",
    "        # パイプラインを構成\n",
    "        clf = CatBoostClassifier(\n",
    "            **params,\n",
    "            verbose=False\n",
    "        )\n",
    "        pipe = make_pipeline(encoder, clf)\n",
    "\n",
    "        # スコアを計算\n",
    "        score = cross_val_score(pipe, x, y, cv=5).mean()\n",
    "        mlflow.log_metric(\"cv_score\", score)\n",
    "\n",
    "        return score\n"
   ]
  },
  {
   "cell_type": "markdown",
   "metadata": {},
   "source": [
    "上位のRunをコンテキストマネージャで開始し, \n",
    "上で定義した関数を4つのハイパーパラメータの組に対して呼び出します."
   ]
  },
  {
   "cell_type": "code",
   "execution_count": 9,
   "metadata": {},
   "outputs": [],
   "source": [
    "with mlflow.start_run():\n",
    "    (cols, encoder) = titanic_cat_encoder()\n",
    "\n",
    "    paramss = [\n",
    "        {\"iterations\": 100, \"cat_features\": \"none\"},\n",
    "        {\"iterations\": 100, \"cat_features\": \"given\"},\n",
    "        {\"iterations\": 500, \"cat_features\": \"none\"},\n",
    "        {\"iterations\": 500, \"cat_features\": \"given\"},\n",
    "    ]\n",
    "\n",
    "    for params in paramss:\n",
    "        fit_eval(x_tr, y_tr, encoder, params, cols, nested=True)\n"
   ]
  },
  {
   "cell_type": "markdown",
   "metadata": {},
   "source": [
    "実行が完了すると, `mlruns`ディレクトリの中に結果が記録されます.\n",
    "結果の記録先を指定しなかったのでディレクトリの中に保存されました.\n",
    "記録先にはいくつかのオプションがありますが, ここでは説明は割愛します.\n",
    "\n",
    "`mlruns`が存在するディレクトリで`mlflow ui`を実行すると結果を確認できるUIサーバが起動します.\n",
    "このサーバには`localhost:5000`でブラウザ上からアクセスできます."
   ]
  },
  {
   "cell_type": "code",
   "execution_count": null,
   "metadata": {},
   "outputs": [],
   "source": []
  }
 ],
 "metadata": {
  "kernelspec": {
   "display_name": "Python 3.9.0 ('venv': venv)",
   "language": "python",
   "name": "python3"
  },
  "language_info": {
   "codemirror_mode": {
    "name": "ipython",
    "version": 3
   },
   "file_extension": ".py",
   "mimetype": "text/x-python",
   "name": "python",
   "nbconvert_exporter": "python",
   "pygments_lexer": "ipython3",
   "version": "3.9.0"
  },
  "orig_nbformat": 4,
  "vscode": {
   "interpreter": {
    "hash": "64aebdd2a36b33efcd222d355b6ea7c69913615117cddeedd055a16d2fc3e88d"
   }
  }
 },
 "nbformat": 4,
 "nbformat_minor": 2
}
