{
 "cells": [
  {
   "cell_type": "markdown",
   "metadata": {},
   "source": [
    "このノートブックではOptunaの使い方を確認します."
   ]
  },
  {
   "cell_type": "code",
   "execution_count": 1,
   "metadata": {},
   "outputs": [],
   "source": [
    "from typing import Any, Dict, Tuple, List\n",
    "import category_encoders as ce\n",
    "import seaborn as sns\n",
    "from sklearn.model_selection import train_test_split\n",
    "from sklearn.metrics import f1_score\n",
    "from sklearn.pipeline import Pipeline, make_pipeline\n",
    "from sklearn.model_selection import cross_val_score\n",
    "from catboost import CatBoostClassifier\n",
    "from pandas import DataFrame\n",
    "import optuna\n",
    "\n",
    "df = sns.load_dataset('titanic')\n",
    "df.head()\n",
    "\n",
    "# 必要な特徴量を抽出\n",
    "feature_names = [\n",
    "    'class',\n",
    "    'sex',\n",
    "    'age',\n",
    "    'sibsp',\n",
    "    'parch',\n",
    "    'fare',\n",
    "    'embark_town',\n",
    "    'deck',\n",
    "]\n",
    "df_x = df[feature_names]\n",
    "df_y = df['survived']\n",
    "\n",
    "class IntOrdEncoder(ce.OrdinalEncoder):\n",
    "    def __init__(self, cols, mapping, handle_unknown):\n",
    "        super().__init__(cols=cols, mapping=mapping, handle_unknown=handle_unknown)\n",
    "        self.cols = cols\n",
    "\n",
    "    def transform(self, *args, **kwargs):\n",
    "        \"\"\"xはpd.DataFrameです.\n",
    "        \"\"\"\n",
    "        x = super().transform(*args, **kwargs)\n",
    "        for col in self.cols:\n",
    "            x[col] = x[col].astype(int)\n",
    "\n",
    "        return x\n",
    "\n",
    "    def fit_transform(self, *args, **kwargs):\n",
    "        \"\"\"xはpd.DataFrameです.\n",
    "        \"\"\"\n",
    "        x = super().fit_transform(*args, **kwargs)\n",
    "        for col in self.cols:\n",
    "            x[col] = x[col].astype(int)\n",
    "\n",
    "        return x"
   ]
  },
  {
   "cell_type": "markdown",
   "metadata": {},
   "source": [
    "データを訓練データとテストデータに分割します. テストデータはハイパーパラメータ最適化には使用せず, 最適なハイパーパラメータで訓練されたモデルを評価するために使用されます."
   ]
  },
  {
   "cell_type": "code",
   "execution_count": 2,
   "metadata": {},
   "outputs": [],
   "source": [
    "x_tr, x_te, y_tr, y_te = train_test_split(df_x, df_y, test_size=0.33, shuffle=True, random_state=42)"
   ]
  },
  {
   "cell_type": "markdown",
   "metadata": {},
   "source": [
    "Optunaは目的関数に対してベイズ最適化を適用します.\n",
    "目的関数はハイパーパラメータを受け取り, そのハイパーパラメータで訓練されたモデルの性能指標を返します.\n",
    "まず, Catboostのハイパーパラメータの探索範囲を決める関数を作成します."
   ]
  },
  {
   "cell_type": "code",
   "execution_count": 3,
   "metadata": {},
   "outputs": [],
   "source": [
    "def suggest_params(trial: optuna.Trial) -> Dict:\n",
    "    # Catboostの繰り返し回数\n",
    "    iterations = trial.suggest_categorical(\"iterations\", [200, 1000])\n",
    "\n",
    "    # cat_featuresは本来は列名のリストとして与えられますが,\n",
    "    # ここではログを表示した時の見やすさのために仮の値をセットしています.\n",
    "    cat_features = trial.suggest_categorical(\"cat_features\", [\"none\", \"given\"])\n",
    "\n",
    "    return {\n",
    "        \"iterations\": iterations,\n",
    "        \"cat_features\": cat_features,\n",
    "    }"
   ]
  },
  {
   "cell_type": "markdown",
   "metadata": {},
   "source": [
    "次に, 与えられたデータに対して目的関数を返す関数を定義します."
   ]
  },
  {
   "cell_type": "code",
   "execution_count": 4,
   "metadata": {},
   "outputs": [],
   "source": [
    "def titanic_cat_encoder() -> Tuple[List[str], ce.OrdinalEncoder]:  # 戻り値の型は後で書く\n",
    "    cols = ['class', 'sex', 'embark_town', 'deck']\n",
    "    mapping = [\n",
    "        {\"col\": \"class\", \"mapping\": {\"First\": 0, \"Second\": 1, \"Third\": 2}},\n",
    "        {\"col\": \"sex\", \"mapping\": {\"male\": 0, \"female\": 1}},\n",
    "        {\"col\": \"embark_town\", \"mapping\": {\"Southampton\": 0, \"Cherbourg\": 1, \"Queenstown\": 2}},\n",
    "        {\"col\": \"deck\", \"mapping\": {\"A\": 0, \"B\": 1, \"C\": 2, \"D\": 3, \"E\": 4, \"F\": 5, \"G\": 6}},\n",
    "    ]\n",
    "    return (cols, IntOrdEncoder(cols=cols, mapping=mapping, handle_unknown='value'))\n",
    "\n",
    "\n",
    "def create_objective(x: DataFrame, y: DataFrame) -> Any:  # 戻り値の型は後で書く\n",
    "    (cols, encoder) = titanic_cat_encoder()\n",
    "\n",
    "    def objective(trial: optuna.Trial) -> Any:  # 戻り値の型は後で書く\n",
    "        params = suggest_params(trial)\n",
    "\n",
    "        # cat_featuresを正しい値に設定\n",
    "        cat_features = None if params[\"cat_features\"] == \"none\" else cols\n",
    "        params[\"cat_features\"] = cat_features\n",
    "\n",
    "        # パイプラインを構成\n",
    "        clf = CatBoostClassifier(\n",
    "            **params,\n",
    "            verbose=False\n",
    "        )\n",
    "        pipe = make_pipeline(encoder, clf)\n",
    "\n",
    "        # スコアを計算\n",
    "        score = cross_val_score(pipe, x, y, cv=5).mean()\n",
    "\n",
    "        return score\n",
    "\n",
    "    return objective\n"
   ]
  },
  {
   "cell_type": "markdown",
   "metadata": {},
   "source": [
    "ベイズ最適化を実行します."
   ]
  },
  {
   "cell_type": "code",
   "execution_count": 5,
   "metadata": {},
   "outputs": [
    {
     "name": "stderr",
     "output_type": "stream",
     "text": [
      "\u001b[32m[I 2022-06-26 09:14:39,080]\u001b[0m A new study created in memory with name: no-name-2ec4b3c6-46f6-4e48-b6a4-73225937b3b0\u001b[0m\n",
      "/Users/taku-y/git/github/PyDataOsaka/learn-mlflow/venv/lib/python3.9/site-packages/optuna/progress_bar.py:47: ExperimentalWarning: Progress bar is experimental (supported from v1.2.0). The interface can change in the future.\n",
      "  self._init_valid()\n"
     ]
    },
    {
     "data": {
      "application/vnd.jupyter.widget-view+json": {
       "model_id": "e9f000dc1f194cc580f2807490183d23",
       "version_major": 2,
       "version_minor": 0
      },
      "text/plain": [
       "  0%|          | 0/10 [00:00<?, ?it/s]"
      ]
     },
     "metadata": {},
     "output_type": "display_data"
    },
    {
     "name": "stdout",
     "output_type": "stream",
     "text": [
      "\u001b[32m[I 2022-06-26 09:14:39,863]\u001b[0m Trial 0 finished with value: 0.8170736300295023 and parameters: {'iterations': 200, 'cat_features': 'none'}. Best is trial 0 with value: 0.8170736300295023.\u001b[0m\n",
      "\u001b[32m[I 2022-06-26 09:14:42,715]\u001b[0m Trial 1 finished with value: 0.8249325214989642 and parameters: {'iterations': 1000, 'cat_features': 'none'}. Best is trial 1 with value: 0.8249325214989642.\u001b[0m\n",
      "\u001b[32m[I 2022-06-26 09:14:44,010]\u001b[0m Trial 2 finished with value: 0.8114556525014123 and parameters: {'iterations': 200, 'cat_features': 'given'}. Best is trial 1 with value: 0.8249325214989642.\u001b[0m\n",
      "\u001b[32m[I 2022-06-26 09:14:46,915]\u001b[0m Trial 3 finished with value: 0.8249325214989642 and parameters: {'iterations': 1000, 'cat_features': 'none'}. Best is trial 1 with value: 0.8249325214989642.\u001b[0m\n",
      "\u001b[32m[I 2022-06-26 09:14:48,051]\u001b[0m Trial 4 finished with value: 0.8114556525014123 and parameters: {'iterations': 200, 'cat_features': 'given'}. Best is trial 1 with value: 0.8249325214989642.\u001b[0m\n",
      "\u001b[32m[I 2022-06-26 09:14:53,407]\u001b[0m Trial 5 finished with value: 0.8159374803841567 and parameters: {'iterations': 1000, 'cat_features': 'given'}. Best is trial 1 with value: 0.8249325214989642.\u001b[0m\n",
      "\u001b[32m[I 2022-06-26 09:14:56,281]\u001b[0m Trial 6 finished with value: 0.8249325214989642 and parameters: {'iterations': 1000, 'cat_features': 'none'}. Best is trial 1 with value: 0.8249325214989642.\u001b[0m\n",
      "\u001b[32m[I 2022-06-26 09:15:01,754]\u001b[0m Trial 7 finished with value: 0.8159374803841567 and parameters: {'iterations': 1000, 'cat_features': 'given'}. Best is trial 1 with value: 0.8249325214989642.\u001b[0m\n",
      "\u001b[32m[I 2022-06-26 09:15:02,448]\u001b[0m Trial 8 finished with value: 0.8170736300295023 and parameters: {'iterations': 200, 'cat_features': 'none'}. Best is trial 1 with value: 0.8249325214989642.\u001b[0m\n",
      "\u001b[32m[I 2022-06-26 09:15:05,309]\u001b[0m Trial 9 finished with value: 0.8249325214989642 and parameters: {'iterations': 1000, 'cat_features': 'none'}. Best is trial 1 with value: 0.8249325214989642.\u001b[0m\n"
     ]
    }
   ],
   "source": [
    "objective = create_objective(df_x, df_y)\n",
    "study = optuna.create_study(direction='maximize')\n",
    "study.optimize(objective, n_trials=10, show_progress_bar=True)\n"
   ]
  },
  {
   "cell_type": "code",
   "execution_count": null,
   "metadata": {},
   "outputs": [],
   "source": []
  }
 ],
 "metadata": {
  "kernelspec": {
   "display_name": "Python 3.9.0 ('venv': venv)",
   "language": "python",
   "name": "python3"
  },
  "language_info": {
   "codemirror_mode": {
    "name": "ipython",
    "version": 3
   },
   "file_extension": ".py",
   "mimetype": "text/x-python",
   "name": "python",
   "nbconvert_exporter": "python",
   "pygments_lexer": "ipython3",
   "version": "3.9.0"
  },
  "orig_nbformat": 4,
  "vscode": {
   "interpreter": {
    "hash": "64aebdd2a36b33efcd222d355b6ea7c69913615117cddeedd055a16d2fc3e88d"
   }
  }
 },
 "nbformat": 4,
 "nbformat_minor": 2
}
