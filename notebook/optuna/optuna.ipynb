{
 "cells": [
  {
   "cell_type": "markdown",
   "metadata": {},
   "source": [
    "このノートブックではOptunaの使い方を確認します."
   ]
  },
  {
   "cell_type": "code",
   "execution_count": 1,
   "metadata": {},
   "outputs": [
    {
     "name": "stderr",
     "output_type": "stream",
     "text": [
      "/Users/taku-y/github/PyDataOsaka/learn-mlflow/venv/lib/python3.9/site-packages/tqdm/auto.py:22: TqdmWarning: IProgress not found. Please update jupyter and ipywidgets. See https://ipywidgets.readthedocs.io/en/stable/user_install.html\n",
      "  from .autonotebook import tqdm as notebook_tqdm\n"
     ]
    }
   ],
   "source": [
    "from typing import Any, Dict, Tuple, List\n",
    "import category_encoders as ce\n",
    "import seaborn as sns\n",
    "import numpy as np\n",
    "from sklearn.model_selection import train_test_split\n",
    "from sklearn.metrics import f1_score\n",
    "from sklearn.pipeline import Pipeline, make_pipeline\n",
    "from sklearn.model_selection import cross_val_score\n",
    "from catboost import CatBoostClassifier\n",
    "from pandas import DataFrame\n",
    "import optuna\n",
    "\n",
    "df = sns.load_dataset('titanic')\n",
    "df.head()\n",
    "\n",
    "# 必要な特徴量を抽出\n",
    "feature_names = [\n",
    "    'class',\n",
    "    'sex',\n",
    "    'age',\n",
    "    'sibsp',\n",
    "    'parch',\n",
    "    'fare',\n",
    "    'embark_town',\n",
    "    'deck',\n",
    "]\n",
    "df_x = df[feature_names]\n",
    "df_y = df['survived']\n",
    "\n",
    "class IntOrdEncoder(ce.OrdinalEncoder):\n",
    "    def __init__(self, cols, mapping, handle_unknown):\n",
    "        super().__init__(cols=cols, mapping=mapping, handle_unknown=handle_unknown)\n",
    "        self.cols = cols\n",
    "\n",
    "    def transform(self, *args, **kwargs):\n",
    "        \"\"\"xはpd.DataFrameです.\n",
    "        \"\"\"\n",
    "        x = super().transform(*args, **kwargs)\n",
    "        for col in self.cols:\n",
    "            x[col] = x[col].astype(int)\n",
    "\n",
    "        return x\n",
    "\n",
    "    def fit_transform(self, *args, **kwargs):\n",
    "        \"\"\"xはpd.DataFrameです.\n",
    "        \"\"\"\n",
    "        x = super().fit_transform(*args, **kwargs)\n",
    "        for col in self.cols:\n",
    "            x[col] = x[col].astype(int)\n",
    "\n",
    "        return x"
   ]
  },
  {
   "cell_type": "markdown",
   "metadata": {},
   "source": [
    "データを訓練データとテストデータに分割します. テストデータはハイパーパラメータ最適化には使用せず, 最適なハイパーパラメータで訓練されたモデルを評価するために使用されます."
   ]
  },
  {
   "cell_type": "code",
   "execution_count": 2,
   "metadata": {},
   "outputs": [],
   "source": [
    "x_tr, x_te, y_tr, y_te = train_test_split(df_x, df_y, test_size=0.33, shuffle=True, random_state=42)"
   ]
  },
  {
   "cell_type": "markdown",
   "metadata": {},
   "source": [
    "Optunaは目的関数に対してベイズ最適化を適用します.\n",
    "目的関数はハイパーパラメータを受け取り, そのハイパーパラメータで訓練されたモデルの性能指標を返します.\n",
    "まず, Catboostのハイパーパラメータの探索範囲を決める関数を作成します."
   ]
  },
  {
   "cell_type": "code",
   "execution_count": 3,
   "metadata": {},
   "outputs": [],
   "source": [
    "def suggest_params(trial: optuna.Trial) -> Dict:\n",
    "    return {\n",
    "        \"depth\": trial.suggest_int(\"depth\", 1, 12),\n",
    "        \"learning_rate\": trial.suggest_loguniform(\"learning_rate\", np.exp(-7.0), 1.0),\n",
    "        \"random_strength\": trial.suggest_int(\"random_strength\", 1, 20),\n",
    "        \"l2_leaf_reg\": trial.suggest_loguniform(\"l2_leaf_reg\", 1, 10),\n",
    "    }"
   ]
  },
  {
   "cell_type": "markdown",
   "metadata": {},
   "source": [
    "次に, 与えられたデータに対して目的関数を返す関数を定義します."
   ]
  },
  {
   "cell_type": "code",
   "execution_count": 4,
   "metadata": {},
   "outputs": [],
   "source": [
    "def titanic_cat_encoder() -> Tuple[List[str], ce.OrdinalEncoder]:  # 戻り値の型は後で書く\n",
    "    cols = ['class', 'sex', 'embark_town', 'deck']\n",
    "    mapping = [\n",
    "        {\"col\": \"class\", \"mapping\": {\"First\": 0, \"Second\": 1, \"Third\": 2}},\n",
    "        {\"col\": \"sex\", \"mapping\": {\"male\": 0, \"female\": 1}},\n",
    "        {\"col\": \"embark_town\", \"mapping\": {\"Southampton\": 0, \"Cherbourg\": 1, \"Queenstown\": 2}},\n",
    "        {\"col\": \"deck\", \"mapping\": {\"A\": 0, \"B\": 1, \"C\": 2, \"D\": 3, \"E\": 4, \"F\": 5, \"G\": 6}},\n",
    "    ]\n",
    "    return (cols, IntOrdEncoder(cols=cols, mapping=mapping, handle_unknown='value'))\n",
    "\n",
    "\n",
    "def create_objective(x: DataFrame, y: DataFrame) -> Any:  # 戻り値の型は後で書く\n",
    "    (cols, encoder) = titanic_cat_encoder()\n",
    "\n",
    "    def objective(trial: optuna.Trial) -> Any:  # 戻り値の型は後で書く\n",
    "        params = suggest_params(trial)\n",
    "\n",
    "        # # cat_featuresを正しい値に設定\n",
    "        # cat_features = None if params[\"cat_features\"] == \"none\" else cols\n",
    "        # params[\"cat_features\"] = cat_features\n",
    "        params[\"cat_features\"] = cols\n",
    "\n",
    "        # パイプラインを構成\n",
    "        clf = CatBoostClassifier(\n",
    "            **params,\n",
    "            verbose=False\n",
    "        )\n",
    "        pipe = make_pipeline(encoder, clf)\n",
    "\n",
    "        # スコアを計算\n",
    "        score = cross_val_score(pipe, x, y, cv=5).mean()\n",
    "\n",
    "        return score\n",
    "\n",
    "    return objective\n"
   ]
  },
  {
   "cell_type": "markdown",
   "metadata": {},
   "source": [
    "ベイズ最適化を実行します."
   ]
  },
  {
   "cell_type": "code",
   "execution_count": 5,
   "metadata": {},
   "outputs": [
    {
     "name": "stderr",
     "output_type": "stream",
     "text": [
      "\u001b[32m[I 2022-08-21 13:34:57,470]\u001b[0m A new study created in memory with name: no-name-1da426af-8ee8-459c-a8ae-1af935f85155\u001b[0m\n",
      "/Users/taku-y/github/PyDataOsaka/learn-mlflow/venv/lib/python3.9/site-packages/optuna/progress_bar.py:47: ExperimentalWarning: Progress bar is experimental (supported from v1.2.0). The interface can change in the future.\n",
      "  self._init_valid()\n",
      " 10%|█         | 1/10 [00:10<01:35, 10.56s/it]"
     ]
    },
    {
     "name": "stdout",
     "output_type": "stream",
     "text": [
      "\u001b[32m[I 2022-08-21 13:35:08,045]\u001b[0m Trial 0 finished with value: 0.8204569706860838 and parameters: {'depth': 8, 'learning_rate': 0.03555373248189771, 'random_strength': 11, 'l2_leaf_reg': 1.2997824258612722}. Best is trial 0 with value: 0.8204569706860838.\u001b[0m\n"
     ]
    },
    {
     "name": "stderr",
     "output_type": "stream",
     "text": [
      " 20%|██        | 2/10 [01:09<05:11, 38.89s/it]"
     ]
    },
    {
     "name": "stdout",
     "output_type": "stream",
     "text": [
      "\u001b[32m[I 2022-08-21 13:36:06,773]\u001b[0m Trial 1 finished with value: 0.8058502291130502 and parameters: {'depth': 11, 'learning_rate': 0.5908369949288038, 'random_strength': 15, 'l2_leaf_reg': 1.387353752438766}. Best is trial 0 with value: 0.8204569706860838.\u001b[0m\n"
     ]
    },
    {
     "name": "stderr",
     "output_type": "stream",
     "text": [
      " 30%|███       | 3/10 [01:31<03:40, 31.46s/it]"
     ]
    },
    {
     "name": "stdout",
     "output_type": "stream",
     "text": [
      "\u001b[32m[I 2022-08-21 13:36:29,392]\u001b[0m Trial 2 finished with value: 0.8125792480070304 and parameters: {'depth': 10, 'learning_rate': 0.011867932161248292, 'random_strength': 5, 'l2_leaf_reg': 1.7718168065122994}. Best is trial 0 with value: 0.8204569706860838.\u001b[0m\n"
     ]
    },
    {
     "name": "stderr",
     "output_type": "stream",
     "text": [
      " 40%|████      | 4/10 [01:38<02:08, 21.47s/it]"
     ]
    },
    {
     "name": "stdout",
     "output_type": "stream",
     "text": [
      "\u001b[32m[I 2022-08-21 13:36:35,550]\u001b[0m Trial 3 finished with value: 0.8114430983616849 and parameters: {'depth': 4, 'learning_rate': 0.7387742749641937, 'random_strength': 1, 'l2_leaf_reg': 2.680346723946653}. Best is trial 0 with value: 0.8204569706860838.\u001b[0m\n"
     ]
    },
    {
     "name": "stderr",
     "output_type": "stream",
     "text": [
      " 50%|█████     | 5/10 [01:41<01:14, 14.93s/it]"
     ]
    },
    {
     "name": "stdout",
     "output_type": "stream",
     "text": [
      "\u001b[32m[I 2022-08-21 13:36:38,873]\u001b[0m Trial 4 finished with value: 0.8025045508756511 and parameters: {'depth': 1, 'learning_rate': 0.2474464652320711, 'random_strength': 11, 'l2_leaf_reg': 1.3902794817016133}. Best is trial 0 with value: 0.8204569706860838.\u001b[0m\n"
     ]
    },
    {
     "name": "stderr",
     "output_type": "stream",
     "text": [
      " 60%|██████    | 6/10 [02:35<01:52, 28.16s/it]"
     ]
    },
    {
     "name": "stdout",
     "output_type": "stream",
     "text": [
      "\u001b[32m[I 2022-08-21 13:37:32,729]\u001b[0m Trial 5 finished with value: 0.8069801016885318 and parameters: {'depth': 11, 'learning_rate': 0.22499663260270944, 'random_strength': 1, 'l2_leaf_reg': 7.397452635032828}. Best is trial 0 with value: 0.8204569706860838.\u001b[0m\n"
     ]
    },
    {
     "name": "stderr",
     "output_type": "stream",
     "text": [
      " 70%|███████   | 7/10 [02:39<01:00, 20.30s/it]"
     ]
    },
    {
     "name": "stdout",
     "output_type": "stream",
     "text": [
      "\u001b[32m[I 2022-08-21 13:37:36,830]\u001b[0m Trial 6 finished with value: 0.8305442219571904 and parameters: {'depth': 2, 'learning_rate': 0.22758695601379678, 'random_strength': 11, 'l2_leaf_reg': 4.747348088599291}. Best is trial 6 with value: 0.8305442219571904.\u001b[0m\n"
     ]
    },
    {
     "name": "stderr",
     "output_type": "stream",
     "text": [
      " 80%|████████  | 8/10 [02:43<00:30, 15.30s/it]"
     ]
    },
    {
     "name": "stdout",
     "output_type": "stream",
     "text": [
      "\u001b[32m[I 2022-08-21 13:37:41,419]\u001b[0m Trial 7 finished with value: 0.8193208210407381 and parameters: {'depth': 3, 'learning_rate': 0.051900176818467494, 'random_strength': 11, 'l2_leaf_reg': 8.467877145676594}. Best is trial 6 with value: 0.8305442219571904.\u001b[0m\n"
     ]
    },
    {
     "name": "stderr",
     "output_type": "stream",
     "text": [
      " 90%|█████████ | 9/10 [02:50<00:12, 12.56s/it]"
     ]
    },
    {
     "name": "stdout",
     "output_type": "stream",
     "text": [
      "\u001b[32m[I 2022-08-21 13:37:47,961]\u001b[0m Trial 8 finished with value: 0.8193019898311468 and parameters: {'depth': 5, 'learning_rate': 0.03338091846911143, 'random_strength': 7, 'l2_leaf_reg': 7.826509560521461}. Best is trial 6 with value: 0.8305442219571904.\u001b[0m\n"
     ]
    },
    {
     "name": "stderr",
     "output_type": "stream",
     "text": [
      "100%|██████████| 10/10 [04:23<00:00, 26.35s/it]"
     ]
    },
    {
     "name": "stdout",
     "output_type": "stream",
     "text": [
      "\u001b[32m[I 2022-08-21 13:39:20,951]\u001b[0m Trial 9 finished with value: 0.8092398468394955 and parameters: {'depth': 12, 'learning_rate': 0.04370546436205171, 'random_strength': 13, 'l2_leaf_reg': 1.2477177451657504}. Best is trial 6 with value: 0.8305442219571904.\u001b[0m\n"
     ]
    },
    {
     "name": "stderr",
     "output_type": "stream",
     "text": [
      "\n"
     ]
    }
   ],
   "source": [
    "objective = create_objective(df_x, df_y)\n",
    "study = optuna.create_study(direction='maximize')\n",
    "study.optimize(objective, n_trials=10, show_progress_bar=True)\n"
   ]
  },
  {
   "cell_type": "code",
   "execution_count": null,
   "metadata": {},
   "outputs": [],
   "source": []
  }
 ],
 "metadata": {
  "kernelspec": {
   "display_name": "Python 3.9.13 ('venv': venv)",
   "language": "python",
   "name": "python3"
  },
  "language_info": {
   "codemirror_mode": {
    "name": "ipython",
    "version": 3
   },
   "file_extension": ".py",
   "mimetype": "text/x-python",
   "name": "python",
   "nbconvert_exporter": "python",
   "pygments_lexer": "ipython3",
   "version": "3.9.13"
  },
  "orig_nbformat": 4,
  "vscode": {
   "interpreter": {
    "hash": "4fecf34550a9eb89965b32c32579af059f126f25965a94989338a49a12bc8dcc"
   }
  }
 },
 "nbformat": 4,
 "nbformat_minor": 2
}
