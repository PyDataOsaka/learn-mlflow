{
 "cells": [
  {
   "cell_type": "markdown",
   "metadata": {},
   "source": [
    "このノートブックでは, これまでに定義した関数を用いてOptunaによるハイパーパラメータ最適化の結果をMLFlow trackingで記録します."
   ]
  },
  {
   "cell_type": "code",
   "execution_count": 1,
   "metadata": {},
   "outputs": [
    {
     "name": "stderr",
     "output_type": "stream",
     "text": [
      "/Users/taku-y/github/PyDataOsaka/learn-mlflow/venv/lib/python3.9/site-packages/tqdm/auto.py:22: TqdmWarning: IProgress not found. Please update jupyter and ipywidgets. See https://ipywidgets.readthedocs.io/en/stable/user_install.html\n",
      "  from .autonotebook import tqdm as notebook_tqdm\n"
     ]
    }
   ],
   "source": [
    "from typing import Any, Dict, Tuple, List\n",
    "import numpy as np\n",
    "import category_encoders as ce\n",
    "import seaborn as sns\n",
    "from sklearn.model_selection import train_test_split\n",
    "from sklearn.metrics import f1_score\n",
    "from sklearn.pipeline import Pipeline, make_pipeline\n",
    "from sklearn.model_selection import cross_val_score\n",
    "from catboost import CatBoostClassifier\n",
    "from pandas import DataFrame\n",
    "import optuna\n",
    "import mlflow\n",
    "\n",
    "df = sns.load_dataset('titanic')\n",
    "df.head()\n",
    "\n",
    "# 必要な特徴量を抽出\n",
    "feature_names = [\n",
    "    'class',\n",
    "    'sex',\n",
    "    'age',\n",
    "    'sibsp',\n",
    "    'parch',\n",
    "    'fare',\n",
    "    'embark_town',\n",
    "    'deck',\n",
    "]\n",
    "df_x = df[feature_names]\n",
    "df_y = df['survived']\n",
    "\n",
    "class IntOrdEncoder(ce.OrdinalEncoder):\n",
    "    def __init__(self, cols, mapping, handle_unknown):\n",
    "        super().__init__(cols=cols, mapping=mapping, handle_unknown=handle_unknown)\n",
    "        self.cols = cols\n",
    "\n",
    "    def transform(self, *args, **kwargs):\n",
    "        \"\"\"xはpd.DataFrameです.\n",
    "        \"\"\"\n",
    "        x = super().transform(*args, **kwargs)\n",
    "        for col in self.cols:\n",
    "            x[col] = x[col].astype(int)\n",
    "\n",
    "        return x\n",
    "\n",
    "    def fit_transform(self, *args, **kwargs):\n",
    "        \"\"\"xはpd.DataFrameです.\n",
    "        \"\"\"\n",
    "        x = super().fit_transform(*args, **kwargs)\n",
    "        for col in self.cols:\n",
    "            x[col] = x[col].astype(int)\n",
    "\n",
    "        return x\n",
    "\n",
    "\n",
    "x_tr, x_te, y_tr, y_te = train_test_split(df_x, df_y, test_size=0.33, shuffle=True, random_state=42)\n",
    "\n",
    "\n",
    "def titanic_cat_encoder() -> Tuple[List[str], ce.OrdinalEncoder]:\n",
    "    cols = ['class', 'sex', 'embark_town', 'deck']\n",
    "    mapping = [\n",
    "        {\"col\": \"class\", \"mapping\": {\"First\": 0, \"Second\": 1, \"Third\": 2}},\n",
    "        {\"col\": \"sex\", \"mapping\": {\"male\": 0, \"female\": 1}},\n",
    "        {\"col\": \"embark_town\", \"mapping\": {\"Southampton\": 0, \"Cherbourg\": 1, \"Queenstown\": 2}},\n",
    "        {\"col\": \"deck\", \"mapping\": {\"A\": 0, \"B\": 1, \"C\": 2, \"D\": 3, \"E\": 4, \"F\": 5, \"G\": 6}},\n",
    "    ]\n",
    "    return (cols, IntOrdEncoder(cols=cols, mapping=mapping, handle_unknown='value'))\n",
    "\n",
    "\n",
    "def fit_eval(x, y, encoder, params, cols, nested):\n",
    "    with mlflow.start_run(nested=nested):\n",
    "        mlflow.log_param(\"depth\", params[\"depth\"])\n",
    "        mlflow.log_param(\"learning_rate\", params[\"learning_rate\"])\n",
    "        mlflow.log_param(\"random_strength\", params[\"random_strength\"])\n",
    "        mlflow.log_param(\"l2_leaf_reg\", params[\"l2_leaf_reg\"])\n",
    "\n",
    "        # # cat_featuresを正しい値に設定\n",
    "        # cat_features = None if params[\"cat_features\"] == \"none\" else cols\n",
    "        # params[\"cat_features\"] = cat_features\n",
    "        params[\"cat_features\"] = [\"embark_town\", \"deck\"]\n",
    "\n",
    "        # パイプラインを構成\n",
    "        clf = CatBoostClassifier(\n",
    "            **params,\n",
    "            verbose=False\n",
    "        )\n",
    "        pipe = make_pipeline(encoder, clf)\n",
    "\n",
    "        # スコアを計算\n",
    "        score = cross_val_score(pipe, x, y, cv=5).mean()\n",
    "        mlflow.log_metric(\"cv_score\", score)\n",
    "\n",
    "        return score\n",
    "\n",
    "\n",
    "def suggest_params(trial: optuna.Trial) -> Dict:\n",
    "    return {\n",
    "        \"depth\": trial.suggest_int(\"depth\", 1, 12),\n",
    "        \"learning_rate\": trial.suggest_loguniform(\"learning_rate\", np.exp(-7.0), 1.0),\n",
    "        \"random_strength\": trial.suggest_int(\"random_strength\", 1, 20),\n",
    "        \"l2_leaf_reg\": trial.suggest_loguniform(\"l2_leaf_reg\", 1, 10),\n",
    "    }"
   ]
  },
  {
   "cell_type": "markdown",
   "metadata": {},
   "source": [
    "Optunaで利用するための目的関数を定義します. 既に下位のRunで訓練と評価を行いログを取る関数を定義しているので, ハイパーパラメータに対する評価を返す関数を定義します."
   ]
  },
  {
   "cell_type": "code",
   "execution_count": 2,
   "metadata": {},
   "outputs": [],
   "source": [
    "def create_objective(x: DataFrame, y: DataFrame) -> Any:  # 戻り値の型は後で書く\n",
    "    (cols, encoder) = titanic_cat_encoder()\n",
    "\n",
    "    def objective(trial: optuna.Trial) -> Any:  # 戻り値の型は後で書く\n",
    "        params = suggest_params(trial)\n",
    "\n",
    "        return fit_eval(x, y, encoder, params, cols, nested=True)\n",
    "\n",
    "    return objective"
   ]
  },
  {
   "cell_type": "markdown",
   "metadata": {},
   "source": [
    "結果の中から最適なハイパーパラメータを記録する関数を定義します."
   ]
  },
  {
   "cell_type": "code",
   "execution_count": 3,
   "metadata": {},
   "outputs": [],
   "source": [
    "def log_best(run: mlflow.entities.Run, metric: str=\"cv_score\") -> Dict:\n",
    "    client = mlflow.tracking.MlflowClient()\n",
    "    runs = client.search_runs(\n",
    "        [run.info.experiment_id],\n",
    "        \"tags.mlflow.parentRunId = '{run_id}' \".format(run_id=run.info.run_id)\n",
    "    )\n",
    "\n",
    "    best_run = max(runs, key=lambda run: run.data.metrics[metric])\n",
    "\n",
    "    mlflow.set_tag(\"best_run\", best_run.info.run_id)\n",
    "    mlflow.log_metric(f\"best_{metric}\", best_run.data.metrics[metric])\n",
    "\n",
    "    return best_run.data.params"
   ]
  },
  {
   "cell_type": "markdown",
   "metadata": {},
   "source": [
    "あとはMLFlowの上位のRunを開始し, この関数をOptunaに与えます."
   ]
  },
  {
   "cell_type": "code",
   "execution_count": 4,
   "metadata": {},
   "outputs": [
    {
     "name": "stderr",
     "output_type": "stream",
     "text": [
      "\u001b[32m[I 2022-08-21 13:59:26,597]\u001b[0m A new study created in memory with name: no-name-61bd0b6e-f9df-4bc2-a424-c3d6762efc0b\u001b[0m\n",
      "/Users/taku-y/github/PyDataOsaka/learn-mlflow/venv/lib/python3.9/site-packages/optuna/progress_bar.py:47: ExperimentalWarning: Progress bar is experimental (supported from v1.2.0). The interface can change in the future.\n",
      "  self._init_valid()\n",
      "  0%|          | 1/200 [00:12<39:53, 12.03s/it]"
     ]
    },
    {
     "name": "stdout",
     "output_type": "stream",
     "text": [
      "\u001b[32m[I 2022-08-21 13:59:38,669]\u001b[0m Trial 0 finished with value: 0.8188095238095239 and parameters: {'depth': 8, 'learning_rate': 0.0033935879246515333, 'random_strength': 15, 'l2_leaf_reg': 1.8593891697502458}. Best is trial 0 with value: 0.8188095238095239.\u001b[0m\n"
     ]
    },
    {
     "name": "stderr",
     "output_type": "stream",
     "text": [
      "  1%|          | 2/200 [00:24<39:49, 12.07s/it]"
     ]
    },
    {
     "name": "stdout",
     "output_type": "stream",
     "text": [
      "\u001b[32m[I 2022-08-21 13:59:50,772]\u001b[0m Trial 1 finished with value: 0.8171988795518208 and parameters: {'depth': 6, 'learning_rate': 0.2852472648037959, 'random_strength': 7, 'l2_leaf_reg': 8.726408371144352}. Best is trial 0 with value: 0.8188095238095239.\u001b[0m\n"
     ]
    },
    {
     "name": "stderr",
     "output_type": "stream",
     "text": [
      "  2%|▏         | 3/200 [00:33<36:17, 11.05s/it]"
     ]
    },
    {
     "name": "stdout",
     "output_type": "stream",
     "text": [
      "\u001b[32m[I 2022-08-21 14:00:00,619]\u001b[0m Trial 2 finished with value: 0.8188795518207282 and parameters: {'depth': 5, 'learning_rate': 0.02465062708927033, 'random_strength': 5, 'l2_leaf_reg': 1.3275954216782124}. Best is trial 2 with value: 0.8188795518207282.\u001b[0m\n"
     ]
    },
    {
     "name": "stderr",
     "output_type": "stream",
     "text": [
      "  2%|▏         | 4/200 [00:39<28:43,  8.80s/it]"
     ]
    },
    {
     "name": "stdout",
     "output_type": "stream",
     "text": [
      "\u001b[32m[I 2022-08-21 14:00:05,950]\u001b[0m Trial 3 finished with value: 0.7920028011204481 and parameters: {'depth': 1, 'learning_rate': 0.8711104807016109, 'random_strength': 1, 'l2_leaf_reg': 1.9248568041099703}. Best is trial 2 with value: 0.8188795518207282.\u001b[0m\n"
     ]
    },
    {
     "name": "stderr",
     "output_type": "stream",
     "text": [
      "  2%|▎         | 5/200 [02:01<1:54:35, 35.26s/it]"
     ]
    },
    {
     "name": "stdout",
     "output_type": "stream",
     "text": [
      "\u001b[32m[I 2022-08-21 14:01:28,130]\u001b[0m Trial 4 finished with value: 0.8088095238095236 and parameters: {'depth': 12, 'learning_rate': 0.033768583770522935, 'random_strength': 15, 'l2_leaf_reg': 3.789271719578617}. Best is trial 2 with value: 0.8188795518207282.\u001b[0m\n"
     ]
    },
    {
     "name": "stderr",
     "output_type": "stream",
     "text": [
      "  3%|▎         | 6/200 [02:11<1:26:46, 26.84s/it]"
     ]
    },
    {
     "name": "stdout",
     "output_type": "stream",
     "text": [
      "\u001b[32m[I 2022-08-21 14:01:38,627]\u001b[0m Trial 5 finished with value: 0.8222268907563024 and parameters: {'depth': 5, 'learning_rate': 0.03904193801330188, 'random_strength': 9, 'l2_leaf_reg': 2.5659621190954023}. Best is trial 5 with value: 0.8222268907563024.\u001b[0m\n"
     ]
    },
    {
     "name": "stderr",
     "output_type": "stream",
     "text": [
      "  4%|▎         | 7/200 [03:03<1:52:15, 34.90s/it]"
     ]
    },
    {
     "name": "stdout",
     "output_type": "stream",
     "text": [
      "\u001b[32m[I 2022-08-21 14:02:30,113]\u001b[0m Trial 6 finished with value: 0.8087675070028011 and parameters: {'depth': 11, 'learning_rate': 0.06438813570442779, 'random_strength': 6, 'l2_leaf_reg': 5.169764641324072}. Best is trial 5 with value: 0.8222268907563024.\u001b[0m\n"
     ]
    },
    {
     "name": "stderr",
     "output_type": "stream",
     "text": [
      "  4%|▍         | 8/200 [03:11<1:24:45, 26.49s/it]"
     ]
    },
    {
     "name": "stdout",
     "output_type": "stream",
     "text": [
      "\u001b[32m[I 2022-08-21 14:02:38,591]\u001b[0m Trial 7 finished with value: 0.8054621848739496 and parameters: {'depth': 3, 'learning_rate': 0.03037435333271264, 'random_strength': 7, 'l2_leaf_reg': 1.6181895914820557}. Best is trial 5 with value: 0.8222268907563024.\u001b[0m\n"
     ]
    },
    {
     "name": "stderr",
     "output_type": "stream",
     "text": [
      "  4%|▍         | 9/200 [03:22<1:08:54, 21.65s/it]"
     ]
    },
    {
     "name": "stdout",
     "output_type": "stream",
     "text": [
      "\u001b[32m[I 2022-08-21 14:02:49,593]\u001b[0m Trial 8 finished with value: 0.8188515406162467 and parameters: {'depth': 6, 'learning_rate': 0.2735621097079205, 'random_strength': 3, 'l2_leaf_reg': 5.005017102003742}. Best is trial 5 with value: 0.8222268907563024.\u001b[0m\n"
     ]
    },
    {
     "name": "stderr",
     "output_type": "stream",
     "text": [
      "  5%|▌         | 10/200 [03:33<57:21, 18.11s/it] "
     ]
    },
    {
     "name": "stdout",
     "output_type": "stream",
     "text": [
      "\u001b[32m[I 2022-08-21 14:02:59,790]\u001b[0m Trial 9 finished with value: 0.8104761904761905 and parameters: {'depth': 6, 'learning_rate': 0.011948748875410245, 'random_strength': 15, 'l2_leaf_reg': 9.040667181141448}. Best is trial 5 with value: 0.8222268907563024.\u001b[0m\n"
     ]
    },
    {
     "name": "stderr",
     "output_type": "stream",
     "text": [
      "  6%|▌         | 11/200 [03:45<51:44, 16.43s/it]"
     ]
    },
    {
     "name": "stdout",
     "output_type": "stream",
     "text": [
      "\u001b[32m[I 2022-08-21 14:03:12,397]\u001b[0m Trial 10 finished with value: 0.8087675070028011 and parameters: {'depth': 9, 'learning_rate': 0.00152807562456554, 'random_strength': 20, 'l2_leaf_reg': 2.6918800001090566}. Best is trial 5 with value: 0.8222268907563024.\u001b[0m\n"
     ]
    },
    {
     "name": "stderr",
     "output_type": "stream",
     "text": [
      "  6%|▌         | 12/200 [03:54<43:42, 13.95s/it]"
     ]
    },
    {
     "name": "stdout",
     "output_type": "stream",
     "text": [
      "\u001b[32m[I 2022-08-21 14:03:20,674]\u001b[0m Trial 11 finished with value: 0.7987394957983194 and parameters: {'depth': 4, 'learning_rate': 0.008260919741103278, 'random_strength': 11, 'l2_leaf_reg': 1.001816555702259}. Best is trial 5 with value: 0.8222268907563024.\u001b[0m\n"
     ]
    },
    {
     "name": "stderr",
     "output_type": "stream",
     "text": [
      "  6%|▋         | 13/200 [04:02<38:13, 12.26s/it]"
     ]
    },
    {
     "name": "stdout",
     "output_type": "stream",
     "text": [
      "\u001b[32m[I 2022-08-21 14:03:29,064]\u001b[0m Trial 12 finished with value: 0.8154901960784315 and parameters: {'depth': 4, 'learning_rate': 0.05739384768465015, 'random_strength': 10, 'l2_leaf_reg': 1.0918251753017947}. Best is trial 5 with value: 0.8222268907563024.\u001b[0m\n"
     ]
    },
    {
     "name": "stderr",
     "output_type": "stream",
     "text": [
      "  7%|▋         | 14/200 [04:09<33:27, 10.79s/it]"
     ]
    },
    {
     "name": "stdout",
     "output_type": "stream",
     "text": [
      "\u001b[32m[I 2022-08-21 14:03:36,457]\u001b[0m Trial 13 finished with value: 0.7953781512605043 and parameters: {'depth': 2, 'learning_rate': 0.010773117512538824, 'random_strength': 4, 'l2_leaf_reg': 2.630401882912998}. Best is trial 5 with value: 0.8222268907563024.\u001b[0m\n"
     ]
    },
    {
     "name": "stderr",
     "output_type": "stream",
     "text": [
      "  8%|▊         | 15/200 [04:26<38:32, 12.50s/it]"
     ]
    },
    {
     "name": "stdout",
     "output_type": "stream",
     "text": [
      "\u001b[32m[I 2022-08-21 14:03:52,916]\u001b[0m Trial 14 finished with value: 0.8256022408963586 and parameters: {'depth': 8, 'learning_rate': 0.12024636088053929, 'random_strength': 10, 'l2_leaf_reg': 1.330340635855353}. Best is trial 14 with value: 0.8256022408963586.\u001b[0m\n"
     ]
    },
    {
     "name": "stderr",
     "output_type": "stream",
     "text": [
      "  8%|▊         | 16/200 [04:50<48:48, 15.91s/it]"
     ]
    },
    {
     "name": "stdout",
     "output_type": "stream",
     "text": [
      "\u001b[32m[I 2022-08-21 14:04:16,759]\u001b[0m Trial 15 finished with value: 0.8154621848739495 and parameters: {'depth': 9, 'learning_rate': 0.1741446051340418, 'random_strength': 11, 'l2_leaf_reg': 2.298054079448884}. Best is trial 14 with value: 0.8256022408963586.\u001b[0m\n"
     ]
    },
    {
     "name": "stderr",
     "output_type": "stream",
     "text": [
      "  8%|▊         | 17/200 [05:08<51:08, 16.77s/it]"
     ]
    },
    {
     "name": "stdout",
     "output_type": "stream",
     "text": [
      "\u001b[32m[I 2022-08-21 14:04:35,510]\u001b[0m Trial 16 finished with value: 0.8205322128851542 and parameters: {'depth': 8, 'learning_rate': 0.13521965890692772, 'random_strength': 9, 'l2_leaf_reg': 3.5838830197279266}. Best is trial 14 with value: 0.8256022408963586.\u001b[0m\n"
     ]
    },
    {
     "name": "stderr",
     "output_type": "stream",
     "text": [
      "  9%|▉         | 18/200 [05:25<50:18, 16.59s/it]"
     ]
    },
    {
     "name": "stdout",
     "output_type": "stream",
     "text": [
      "\u001b[32m[I 2022-08-21 14:04:51,577]\u001b[0m Trial 17 finished with value: 0.8104481792717086 and parameters: {'depth': 8, 'learning_rate': 0.9324908791155929, 'random_strength': 13, 'l2_leaf_reg': 1.4141643144181408}. Best is trial 14 with value: 0.8256022408963586.\u001b[0m\n"
     ]
    },
    {
     "name": "stderr",
     "output_type": "stream",
     "text": [
      " 10%|▉         | 19/200 [06:00<1:07:02, 22.22s/it]"
     ]
    },
    {
     "name": "stdout",
     "output_type": "stream",
     "text": [
      "\u001b[32m[I 2022-08-21 14:05:27,032]\u001b[0m Trial 18 finished with value: 0.812170868347339 and parameters: {'depth': 10, 'learning_rate': 0.08077180101994832, 'random_strength': 8, 'l2_leaf_reg': 4.551588341091152}. Best is trial 14 with value: 0.8256022408963586.\u001b[0m\n"
     ]
    },
    {
     "name": "stderr",
     "output_type": "stream",
     "text": [
      " 10%|█         | 20/200 [06:14<59:04, 19.69s/it]  "
     ]
    },
    {
     "name": "stdout",
     "output_type": "stream",
     "text": [
      "\u001b[32m[I 2022-08-21 14:05:40,822]\u001b[0m Trial 19 finished with value: 0.8104761904761905 and parameters: {'depth': 7, 'learning_rate': 0.39761924417585526, 'random_strength': 20, 'l2_leaf_reg': 2.293342491263825}. Best is trial 14 with value: 0.8256022408963586.\u001b[0m\n"
     ]
    },
    {
     "name": "stderr",
     "output_type": "stream",
     "text": [
      " 10%|█         | 21/200 [06:22<48:20, 16.20s/it]"
     ]
    },
    {
     "name": "stdout",
     "output_type": "stream",
     "text": [
      "\u001b[32m[I 2022-08-21 14:05:48,893]\u001b[0m Trial 20 finished with value: 0.8071008403361344 and parameters: {'depth': 4, 'learning_rate': 0.003945061516383039, 'random_strength': 13, 'l2_leaf_reg': 1.3608594717926563}. Best is trial 14 with value: 0.8256022408963586.\u001b[0m\n"
     ]
    },
    {
     "name": "stderr",
     "output_type": "stream",
     "text": [
      " 11%|█         | 22/200 [06:38<48:14, 16.26s/it]"
     ]
    },
    {
     "name": "stdout",
     "output_type": "stream",
     "text": [
      "\u001b[32m[I 2022-08-21 14:06:05,284]\u001b[0m Trial 21 finished with value: 0.8221988795518207 and parameters: {'depth': 8, 'learning_rate': 0.13807800315766378, 'random_strength': 9, 'l2_leaf_reg': 3.3137909196311877}. Best is trial 14 with value: 0.8256022408963586.\u001b[0m\n"
     ]
    },
    {
     "name": "stderr",
     "output_type": "stream",
     "text": [
      " 12%|█▏        | 23/200 [06:52<45:39, 15.48s/it]"
     ]
    },
    {
     "name": "stdout",
     "output_type": "stream",
     "text": [
      "\u001b[32m[I 2022-08-21 14:06:18,935]\u001b[0m Trial 22 finished with value: 0.8138095238095238 and parameters: {'depth': 7, 'learning_rate': 0.1133552051112856, 'random_strength': 12, 'l2_leaf_reg': 6.653747982499068}. Best is trial 14 with value: 0.8256022408963586.\u001b[0m\n"
     ]
    },
    {
     "name": "stderr",
     "output_type": "stream",
     "text": [
      " 12%|█▏        | 24/200 [07:23<59:30, 20.29s/it]"
     ]
    },
    {
     "name": "stdout",
     "output_type": "stream",
     "text": [
      "\u001b[32m[I 2022-08-21 14:06:50,446]\u001b[0m Trial 23 finished with value: 0.8071288515406163 and parameters: {'depth': 10, 'learning_rate': 0.039702095770911855, 'random_strength': 8, 'l2_leaf_reg': 3.1269462550656026}. Best is trial 14 with value: 0.8256022408963586.\u001b[0m\n"
     ]
    },
    {
     "name": "stderr",
     "output_type": "stream",
     "text": [
      " 12%|█▎        | 25/200 [07:33<50:08, 17.19s/it]"
     ]
    },
    {
     "name": "stdout",
     "output_type": "stream",
     "text": [
      "\u001b[32m[I 2022-08-21 14:07:00,411]\u001b[0m Trial 24 finished with value: 0.8138375350140056 and parameters: {'depth': 5, 'learning_rate': 0.476034120906178, 'random_strength': 10, 'l2_leaf_reg': 3.984817593598587}. Best is trial 14 with value: 0.8256022408963586.\u001b[0m\n"
     ]
    },
    {
     "name": "stderr",
     "output_type": "stream",
     "text": [
      " 13%|█▎        | 26/200 [07:51<50:41, 17.48s/it]"
     ]
    },
    {
     "name": "stdout",
     "output_type": "stream",
     "text": [
      "\u001b[32m[I 2022-08-21 14:07:18,561]\u001b[0m Trial 25 finished with value: 0.812142857142857 and parameters: {'depth': 9, 'learning_rate': 0.01815025357987615, 'random_strength': 17, 'l2_leaf_reg': 3.1195959123556203}. Best is trial 14 with value: 0.8256022408963586.\u001b[0m\n"
     ]
    },
    {
     "name": "stderr",
     "output_type": "stream",
     "text": [
      " 14%|█▎        | 27/200 [08:06<47:33, 16.49s/it]"
     ]
    },
    {
     "name": "stdout",
     "output_type": "stream",
     "text": [
      "\u001b[32m[I 2022-08-21 14:07:32,753]\u001b[0m Trial 26 finished with value: 0.817156862745098 and parameters: {'depth': 7, 'learning_rate': 0.18767994135232177, 'random_strength': 9, 'l2_leaf_reg': 6.068356209521143}. Best is trial 14 with value: 0.8256022408963586.\u001b[0m\n"
     ]
    },
    {
     "name": "stderr",
     "output_type": "stream",
     "text": [
      " 14%|█▍        | 28/200 [08:38<1:01:19, 21.39s/it]"
     ]
    },
    {
     "name": "stdout",
     "output_type": "stream",
     "text": [
      "\u001b[32m[I 2022-08-21 14:08:05,568]\u001b[0m Trial 27 finished with value: 0.8020728291316527 and parameters: {'depth': 10, 'learning_rate': 0.08002808964385004, 'random_strength': 13, 'l2_leaf_reg': 1.9706250897053572}. Best is trial 14 with value: 0.8256022408963586.\u001b[0m\n"
     ]
    },
    {
     "name": "stderr",
     "output_type": "stream",
     "text": [
      " 14%|█▍        | 29/200 [08:48<51:04, 17.92s/it]  "
     ]
    },
    {
     "name": "stdout",
     "output_type": "stream",
     "text": [
      "\u001b[32m[I 2022-08-21 14:08:15,395]\u001b[0m Trial 28 finished with value: 0.812156862745098 and parameters: {'depth': 5, 'learning_rate': 0.04827972330451168, 'random_strength': 6, 'l2_leaf_reg': 2.3592055626171593}. Best is trial 14 with value: 0.8256022408963586.\u001b[0m\n"
     ]
    },
    {
     "name": "stderr",
     "output_type": "stream",
     "text": [
      " 15%|█▌        | 30/200 [09:01<46:38, 16.46s/it]"
     ]
    },
    {
     "name": "stdout",
     "output_type": "stream",
     "text": [
      "\u001b[32m[I 2022-08-21 14:08:28,448]\u001b[0m Trial 29 finished with value: 0.8138515406162465 and parameters: {'depth': 7, 'learning_rate': 0.11102950681216998, 'random_strength': 2, 'l2_leaf_reg': 1.668905699090138}. Best is trial 14 with value: 0.8256022408963586.\u001b[0m\n"
     ]
    },
    {
     "name": "stderr",
     "output_type": "stream",
     "text": [
      " 16%|█▌        | 31/200 [09:13<42:27, 15.07s/it]"
     ]
    },
    {
     "name": "stdout",
     "output_type": "stream",
     "text": [
      "\u001b[32m[I 2022-08-21 14:08:40,289]\u001b[0m Trial 30 finished with value: 0.812142857142857 and parameters: {'depth': 8, 'learning_rate': 0.004996970376076575, 'random_strength': 9, 'l2_leaf_reg': 1.2020856138069986}. Best is trial 14 with value: 0.8256022408963586.\u001b[0m\n"
     ]
    },
    {
     "name": "stderr",
     "output_type": "stream",
     "text": [
      " 16%|█▌        | 32/200 [09:31<44:11, 15.78s/it]"
     ]
    },
    {
     "name": "stdout",
     "output_type": "stream",
     "text": [
      "\u001b[32m[I 2022-08-21 14:08:57,717]\u001b[0m Trial 31 finished with value: 0.8104901960784312 and parameters: {'depth': 8, 'learning_rate': 0.1492760938620138, 'random_strength': 9, 'l2_leaf_reg': 3.6991974340304568}. Best is trial 14 with value: 0.8256022408963586.\u001b[0m\n"
     ]
    },
    {
     "name": "stderr",
     "output_type": "stream",
     "text": [
      " 16%|█▋        | 33/200 [09:48<45:08, 16.22s/it]"
     ]
    },
    {
     "name": "stdout",
     "output_type": "stream",
     "text": [
      "\u001b[32m[I 2022-08-21 14:09:14,950]\u001b[0m Trial 32 finished with value: 0.8104901960784314 and parameters: {'depth': 8, 'learning_rate': 0.2406400701934394, 'random_strength': 7, 'l2_leaf_reg': 3.457020482509319}. Best is trial 14 with value: 0.8256022408963586.\u001b[0m\n"
     ]
    },
    {
     "name": "stderr",
     "output_type": "stream",
     "text": [
      " 17%|█▋        | 34/200 [10:12<51:37, 18.66s/it]"
     ]
    },
    {
     "name": "stdout",
     "output_type": "stream",
     "text": [
      "\u001b[32m[I 2022-08-21 14:09:39,305]\u001b[0m Trial 33 finished with value: 0.8137955182072828 and parameters: {'depth': 9, 'learning_rate': 0.4855235582604262, 'random_strength': 12, 'l2_leaf_reg': 4.362359298962115}. Best is trial 14 with value: 0.8256022408963586.\u001b[0m\n"
     ]
    },
    {
     "name": "stderr",
     "output_type": "stream",
     "text": [
      " 18%|█▊        | 35/200 [10:21<43:00, 15.64s/it]"
     ]
    },
    {
     "name": "stdout",
     "output_type": "stream",
     "text": [
      "\u001b[32m[I 2022-08-21 14:09:47,902]\u001b[0m Trial 34 finished with value: 0.8188655462184874 and parameters: {'depth': 5, 'learning_rate': 0.10962183787838026, 'random_strength': 5, 'l2_leaf_reg': 2.7678897479547397}. Best is trial 14 with value: 0.8256022408963586.\u001b[0m\n"
     ]
    },
    {
     "name": "stderr",
     "output_type": "stream",
     "text": [
      " 18%|█▊        | 36/200 [10:30<37:16, 13.64s/it]"
     ]
    },
    {
     "name": "stdout",
     "output_type": "stream",
     "text": [
      "\u001b[32m[I 2022-08-21 14:09:56,866]\u001b[0m Trial 35 finished with value: 0.8138235294117646 and parameters: {'depth': 6, 'learning_rate': 0.02273652135665951, 'random_strength': 8, 'l2_leaf_reg': 7.035316835013244}. Best is trial 14 with value: 0.8256022408963586.\u001b[0m\n"
     ]
    },
    {
     "name": "stderr",
     "output_type": "stream",
     "text": [
      " 18%|█▊        | 37/200 [11:48<1:29:38, 33.00s/it]"
     ]
    },
    {
     "name": "stdout",
     "output_type": "stream",
     "text": [
      "\u001b[32m[I 2022-08-21 14:11:15,038]\u001b[0m Trial 36 finished with value: 0.805392156862745 and parameters: {'depth': 12, 'learning_rate': 0.3899167118434925, 'random_strength': 10, 'l2_leaf_reg': 1.8929393850562266}. Best is trial 14 with value: 0.8256022408963586.\u001b[0m\n"
     ]
    },
    {
     "name": "stderr",
     "output_type": "stream",
     "text": [
      " 19%|█▉        | 38/200 [12:29<1:35:25, 35.35s/it]"
     ]
    },
    {
     "name": "stdout",
     "output_type": "stream",
     "text": [
      "\u001b[32m[I 2022-08-21 14:11:55,862]\u001b[0m Trial 37 finished with value: 0.8071148459383753 and parameters: {'depth': 11, 'learning_rate': 0.07759676709881663, 'random_strength': 12, 'l2_leaf_reg': 3.3205792629294284}. Best is trial 14 with value: 0.8256022408963586.\u001b[0m\n"
     ]
    },
    {
     "name": "stderr",
     "output_type": "stream",
     "text": [
      " 20%|█▉        | 39/200 [12:37<1:13:21, 27.34s/it]"
     ]
    },
    {
     "name": "stdout",
     "output_type": "stream",
     "text": [
      "\u001b[32m[I 2022-08-21 14:12:04,522]\u001b[0m Trial 38 finished with value: 0.8188655462184874 and parameters: {'depth': 7, 'learning_rate': 0.13099593055614625, 'random_strength': 6, 'l2_leaf_reg': 5.611791663094947}. Best is trial 14 with value: 0.8256022408963586.\u001b[0m\n"
     ]
    },
    {
     "name": "stderr",
     "output_type": "stream",
     "text": [
      " 20%|██        | 40/200 [12:44<56:29, 21.18s/it]  "
     ]
    },
    {
     "name": "stdout",
     "output_type": "stream",
     "text": [
      "\u001b[32m[I 2022-08-21 14:12:11,335]\u001b[0m Trial 39 finished with value: 0.8104761904761905 and parameters: {'depth': 6, 'learning_rate': 0.04247938622107916, 'random_strength': 14, 'l2_leaf_reg': 1.637115142685888}. Best is trial 14 with value: 0.8256022408963586.\u001b[0m\n"
     ]
    },
    {
     "name": "stderr",
     "output_type": "stream",
     "text": [
      " 20%|██        | 41/200 [12:47<41:42, 15.74s/it]"
     ]
    },
    {
     "name": "stdout",
     "output_type": "stream",
     "text": [
      "\u001b[32m[I 2022-08-21 14:12:14,375]\u001b[0m Trial 40 finished with value: 0.792016806722689 and parameters: {'depth': 1, 'learning_rate': 0.6770238471710353, 'random_strength': 7, 'l2_leaf_reg': 7.89622932101433}. Best is trial 14 with value: 0.8256022408963586.\u001b[0m\n"
     ]
    },
    {
     "name": "stderr",
     "output_type": "stream",
     "text": [
      " 21%|██        | 42/200 [12:52<32:37, 12.39s/it]"
     ]
    },
    {
     "name": "stdout",
     "output_type": "stream",
     "text": [
      "\u001b[32m[I 2022-08-21 14:12:18,945]\u001b[0m Trial 41 finished with value: 0.8155322128851539 and parameters: {'depth': 3, 'learning_rate': 0.018058219014936268, 'random_strength': 1, 'l2_leaf_reg': 1.2157475644159028}. Best is trial 14 with value: 0.8256022408963586.\u001b[0m\n"
     ]
    },
    {
     "name": "stderr",
     "output_type": "stream",
     "text": [
      " 22%|██▏       | 43/200 [12:57<27:04, 10.35s/it]"
     ]
    },
    {
     "name": "stdout",
     "output_type": "stream",
     "text": [
      "\u001b[32m[I 2022-08-21 14:12:24,523]\u001b[0m Trial 42 finished with value: 0.8255742296918767 and parameters: {'depth': 5, 'learning_rate': 0.027000409229453144, 'random_strength': 4, 'l2_leaf_reg': 1.5166193863196893}. Best is trial 14 with value: 0.8256022408963586.\u001b[0m\n"
     ]
    },
    {
     "name": "stderr",
     "output_type": "stream",
     "text": [
      " 22%|██▏       | 44/200 [13:04<23:41,  9.11s/it]"
     ]
    },
    {
     "name": "stdout",
     "output_type": "stream",
     "text": [
      "\u001b[32m[I 2022-08-21 14:12:30,757]\u001b[0m Trial 43 finished with value: 0.8104481792717086 and parameters: {'depth': 5, 'learning_rate': 0.023292022105898206, 'random_strength': 4, 'l2_leaf_reg': 2.089486945924461}. Best is trial 14 with value: 0.8256022408963586.\u001b[0m\n"
     ]
    },
    {
     "name": "stderr",
     "output_type": "stream",
     "text": [
      " 22%|██▎       | 45/200 [13:14<24:35,  9.52s/it]"
     ]
    },
    {
     "name": "stdout",
     "output_type": "stream",
     "text": [
      "\u001b[32m[I 2022-08-21 14:12:41,238]\u001b[0m Trial 44 finished with value: 0.8238795518207283 and parameters: {'depth': 8, 'learning_rate': 0.052144489796680606, 'random_strength': 9, 'l2_leaf_reg': 1.488147818761626}. Best is trial 14 with value: 0.8256022408963586.\u001b[0m\n"
     ]
    },
    {
     "name": "stderr",
     "output_type": "stream",
     "text": [
      " 23%|██▎       | 46/200 [13:21<22:20,  8.70s/it]"
     ]
    },
    {
     "name": "stdout",
     "output_type": "stream",
     "text": [
      "\u001b[32m[I 2022-08-21 14:12:48,034]\u001b[0m Trial 45 finished with value: 0.8070868347338935 and parameters: {'depth': 6, 'learning_rate': 0.06356542017760289, 'random_strength': 5, 'l2_leaf_reg': 1.5062381610249582}. Best is trial 14 with value: 0.8256022408963586.\u001b[0m\n"
     ]
    },
    {
     "name": "stderr",
     "output_type": "stream",
     "text": [
      " 24%|██▎       | 47/200 [13:25<18:49,  7.38s/it]"
     ]
    },
    {
     "name": "stdout",
     "output_type": "stream",
     "text": [
      "\u001b[32m[I 2022-08-21 14:12:52,330]\u001b[0m Trial 46 finished with value: 0.8003921568627451 and parameters: {'depth': 3, 'learning_rate': 0.030922159081592817, 'random_strength': 11, 'l2_leaf_reg': 1.7486826839032537}. Best is trial 14 with value: 0.8256022408963586.\u001b[0m\n"
     ]
    },
    {
     "name": "stderr",
     "output_type": "stream",
     "text": [
      " 24%|██▍       | 48/200 [13:30<16:46,  6.62s/it]"
     ]
    },
    {
     "name": "stdout",
     "output_type": "stream",
     "text": [
      "\u001b[32m[I 2022-08-21 14:12:57,167]\u001b[0m Trial 47 finished with value: 0.8121708683473388 and parameters: {'depth': 4, 'learning_rate': 0.014102795874037009, 'random_strength': 17, 'l2_leaf_reg': 1.2161492548305686}. Best is trial 14 with value: 0.8256022408963586.\u001b[0m\n"
     ]
    },
    {
     "name": "stderr",
     "output_type": "stream",
     "text": [
      " 24%|██▍       | 49/200 [13:38<17:49,  7.08s/it]"
     ]
    },
    {
     "name": "stdout",
     "output_type": "stream",
     "text": [
      "\u001b[32m[I 2022-08-21 14:13:05,333]\u001b[0m Trial 48 finished with value: 0.8154621848739495 and parameters: {'depth': 9, 'learning_rate': 0.0014025572116130253, 'random_strength': 8, 'l2_leaf_reg': 1.0137844541135068}. Best is trial 14 with value: 0.8256022408963586.\u001b[0m\n"
     ]
    },
    {
     "name": "stderr",
     "output_type": "stream",
     "text": [
      " 25%|██▌       | 50/200 [13:44<16:51,  6.74s/it]"
     ]
    },
    {
     "name": "stdout",
     "output_type": "stream",
     "text": [
      "\u001b[32m[I 2022-08-21 14:13:11,286]\u001b[0m Trial 49 finished with value: 0.8205602240896358 and parameters: {'depth': 6, 'learning_rate': 0.008661440437421744, 'random_strength': 3, 'l2_leaf_reg': 1.5025279764089272}. Best is trial 14 with value: 0.8256022408963586.\u001b[0m\n"
     ]
    },
    {
     "name": "stderr",
     "output_type": "stream",
     "text": [
      " 26%|██▌       | 51/200 [13:51<16:40,  6.71s/it]"
     ]
    },
    {
     "name": "stdout",
     "output_type": "stream",
     "text": [
      "\u001b[32m[I 2022-08-21 14:13:17,924]\u001b[0m Trial 50 finished with value: 0.813781512605042 and parameters: {'depth': 8, 'learning_rate': 0.0009296836890139885, 'random_strength': 11, 'l2_leaf_reg': 2.8504053414136803}. Best is trial 14 with value: 0.8256022408963586.\u001b[0m\n"
     ]
    },
    {
     "name": "stderr",
     "output_type": "stream",
     "text": [
      " 26%|██▌       | 52/200 [13:57<15:54,  6.45s/it]"
     ]
    },
    {
     "name": "stdout",
     "output_type": "stream",
     "text": [
      "\u001b[32m[I 2022-08-21 14:13:23,766]\u001b[0m Trial 51 finished with value: 0.8188795518207282 and parameters: {'depth': 6, 'learning_rate': 0.008714985805887218, 'random_strength': 4, 'l2_leaf_reg': 1.4499407391862758}. Best is trial 14 with value: 0.8256022408963586.\u001b[0m\n"
     ]
    },
    {
     "name": "stderr",
     "output_type": "stream",
     "text": [
      " 26%|██▋       | 53/200 [14:05<17:17,  7.06s/it]"
     ]
    },
    {
     "name": "stdout",
     "output_type": "stream",
     "text": [
      "\u001b[32m[I 2022-08-21 14:13:32,241]\u001b[0m Trial 52 finished with value: 0.8222128851540618 and parameters: {'depth': 7, 'learning_rate': 0.054523163549017685, 'random_strength': 7, 'l2_leaf_reg': 1.5467513824655412}. Best is trial 14 with value: 0.8256022408963586.\u001b[0m\n"
     ]
    },
    {
     "name": "stderr",
     "output_type": "stream",
     "text": [
      " 27%|██▋       | 54/200 [14:13<17:52,  7.35s/it]"
     ]
    },
    {
     "name": "stdout",
     "output_type": "stream",
     "text": [
      "\u001b[32m[I 2022-08-21 14:13:40,268]\u001b[0m Trial 53 finished with value: 0.820546218487395 and parameters: {'depth': 7, 'learning_rate': 0.05052107725583241, 'random_strength': 7, 'l2_leaf_reg': 1.3114878167370791}. Best is trial 14 with value: 0.8256022408963586.\u001b[0m\n"
     ]
    },
    {
     "name": "stderr",
     "output_type": "stream",
     "text": [
      " 28%|██▊       | 55/200 [14:23<19:42,  8.16s/it]"
     ]
    },
    {
     "name": "stdout",
     "output_type": "stream",
     "text": [
      "\u001b[32m[I 2022-08-21 14:13:50,308]\u001b[0m Trial 54 finished with value: 0.8171988795518208 and parameters: {'depth': 8, 'learning_rate': 0.03455842056191404, 'random_strength': 6, 'l2_leaf_reg': 1.1026029843891028}. Best is trial 14 with value: 0.8256022408963586.\u001b[0m\n"
     ]
    },
    {
     "name": "stderr",
     "output_type": "stream",
     "text": [
      " 28%|██▊       | 56/200 [14:28<17:15,  7.19s/it]"
     ]
    },
    {
     "name": "stdout",
     "output_type": "stream",
     "text": [
      "\u001b[32m[I 2022-08-21 14:13:55,243]\u001b[0m Trial 55 finished with value: 0.8020588235294117 and parameters: {'depth': 4, 'learning_rate': 0.21451120335511298, 'random_strength': 10, 'l2_leaf_reg': 1.7705059178080227}. Best is trial 14 with value: 0.8256022408963586.\u001b[0m\n"
     ]
    },
    {
     "name": "stderr",
     "output_type": "stream",
     "text": [
      " 28%|██▊       | 57/200 [14:34<16:11,  6.79s/it]"
     ]
    },
    {
     "name": "stdout",
     "output_type": "stream",
     "text": [
      "\u001b[32m[I 2022-08-21 14:14:01,108]\u001b[0m Trial 56 finished with value: 0.8188515406162464 and parameters: {'depth': 5, 'learning_rate': 0.061161064029821195, 'random_strength': 9, 'l2_leaf_reg': 2.1523146805098192}. Best is trial 14 with value: 0.8256022408963586.\u001b[0m\n"
     ]
    },
    {
     "name": "stderr",
     "output_type": "stream",
     "text": [
      " 29%|██▉       | 58/200 [14:49<22:07,  9.35s/it]"
     ]
    },
    {
     "name": "stdout",
     "output_type": "stream",
     "text": [
      "\u001b[32m[I 2022-08-21 14:14:16,432]\u001b[0m Trial 57 finished with value: 0.8155322128851541 and parameters: {'depth': 9, 'learning_rate': 0.09892257927100465, 'random_strength': 8, 'l2_leaf_reg': 1.2961965030305196}. Best is trial 14 with value: 0.8256022408963586.\u001b[0m\n"
     ]
    },
    {
     "name": "stderr",
     "output_type": "stream",
     "text": [
      " 30%|██▉       | 59/200 [14:57<21:07,  8.99s/it]"
     ]
    },
    {
     "name": "stdout",
     "output_type": "stream",
     "text": [
      "\u001b[32m[I 2022-08-21 14:14:24,565]\u001b[0m Trial 58 finished with value: 0.8138235294117647 and parameters: {'depth': 7, 'learning_rate': 0.0863158238881326, 'random_strength': 10, 'l2_leaf_reg': 1.5931785465750945}. Best is trial 14 with value: 0.8256022408963586.\u001b[0m\n"
     ]
    },
    {
     "name": "stderr",
     "output_type": "stream",
     "text": [
      " 30%|███       | 60/200 [15:08<21:56,  9.40s/it]"
     ]
    },
    {
     "name": "stdout",
     "output_type": "stream",
     "text": [
      "\u001b[32m[I 2022-08-21 14:14:34,932]\u001b[0m Trial 59 finished with value: 0.812156862745098 and parameters: {'depth': 8, 'learning_rate': 0.025752815145717325, 'random_strength': 3, 'l2_leaf_reg': 2.4202085747652338}. Best is trial 14 with value: 0.8256022408963586.\u001b[0m\n"
     ]
    },
    {
     "name": "stderr",
     "output_type": "stream",
     "text": [
      " 30%|███       | 61/200 [15:30<30:59, 13.38s/it]"
     ]
    },
    {
     "name": "stdout",
     "output_type": "stream",
     "text": [
      "\u001b[32m[I 2022-08-21 14:14:57,600]\u001b[0m Trial 60 finished with value: 0.8121428571428572 and parameters: {'depth': 10, 'learning_rate': 0.2934379514721995, 'random_strength': 5, 'l2_leaf_reg': 4.066049127263188}. Best is trial 14 with value: 0.8256022408963586.\u001b[0m\n"
     ]
    },
    {
     "name": "stderr",
     "output_type": "stream",
     "text": [
      " 31%|███       | 62/200 [15:37<26:16, 11.42s/it]"
     ]
    },
    {
     "name": "stdout",
     "output_type": "stream",
     "text": [
      "\u001b[32m[I 2022-08-21 14:15:04,456]\u001b[0m Trial 61 finished with value: 0.8104621848739495 and parameters: {'depth': 7, 'learning_rate': 0.007322471084161294, 'random_strength': 3, 'l2_leaf_reg': 1.548484744066691}. Best is trial 14 with value: 0.8256022408963586.\u001b[0m\n"
     ]
    },
    {
     "name": "stderr",
     "output_type": "stream",
     "text": [
      " 32%|███▏      | 63/200 [15:43<22:14,  9.74s/it]"
     ]
    },
    {
     "name": "stdout",
     "output_type": "stream",
     "text": [
      "\u001b[32m[I 2022-08-21 14:15:10,277]\u001b[0m Trial 62 finished with value: 0.812142857142857 and parameters: {'depth': 5, 'learning_rate': 0.0395484809076618, 'random_strength': 2, 'l2_leaf_reg': 1.3712066617727625}. Best is trial 14 with value: 0.8256022408963586.\u001b[0m\n"
     ]
    },
    {
     "name": "stderr",
     "output_type": "stream",
     "text": [
      " 32%|███▏      | 64/200 [15:49<19:28,  8.59s/it]"
     ]
    },
    {
     "name": "stdout",
     "output_type": "stream",
     "text": [
      "\u001b[32m[I 2022-08-21 14:15:16,174]\u001b[0m Trial 63 finished with value: 0.8188235294117646 and parameters: {'depth': 6, 'learning_rate': 0.0030094854772507356, 'random_strength': 2, 'l2_leaf_reg': 1.7929029556843727}. Best is trial 14 with value: 0.8256022408963586.\u001b[0m\n"
     ]
    },
    {
     "name": "stderr",
     "output_type": "stream",
     "text": [
      " 32%|███▎      | 65/200 [15:56<18:00,  8.00s/it]"
     ]
    },
    {
     "name": "stdout",
     "output_type": "stream",
     "text": [
      "\u001b[32m[I 2022-08-21 14:15:22,806]\u001b[0m Trial 64 finished with value: 0.8104621848739495 and parameters: {'depth': 6, 'learning_rate': 0.05423209325358252, 'random_strength': 9, 'l2_leaf_reg': 1.121967330256885}. Best is trial 14 with value: 0.8256022408963586.\u001b[0m\n"
     ]
    },
    {
     "name": "stderr",
     "output_type": "stream",
     "text": [
      " 33%|███▎      | 66/200 [16:00<15:41,  7.03s/it]"
     ]
    },
    {
     "name": "stdout",
     "output_type": "stream",
     "text": [
      "\u001b[32m[I 2022-08-21 14:15:27,554]\u001b[0m Trial 65 finished with value: 0.8155182072829131 and parameters: {'depth': 4, 'learning_rate': 0.01334738371894394, 'random_strength': 7, 'l2_leaf_reg': 2.0065184990359968}. Best is trial 14 with value: 0.8256022408963586.\u001b[0m\n"
     ]
    },
    {
     "name": "stderr",
     "output_type": "stream",
     "text": [
      " 34%|███▎      | 67/200 [16:08<15:38,  7.05s/it]"
     ]
    },
    {
     "name": "stdout",
     "output_type": "stream",
     "text": [
      "\u001b[32m[I 2022-08-21 14:15:34,670]\u001b[0m Trial 66 finished with value: 0.8155042016806722 and parameters: {'depth': 6, 'learning_rate': 0.15828496085516597, 'random_strength': 4, 'l2_leaf_reg': 1.4531345430999663}. Best is trial 14 with value: 0.8256022408963586.\u001b[0m\n"
     ]
    },
    {
     "name": "stderr",
     "output_type": "stream",
     "text": [
      " 34%|███▍      | 68/200 [16:23<20:54,  9.50s/it]"
     ]
    },
    {
     "name": "stdout",
     "output_type": "stream",
     "text": [
      "\u001b[32m[I 2022-08-21 14:15:49,894]\u001b[0m Trial 67 finished with value: 0.803781512605042 and parameters: {'depth': 9, 'learning_rate': 0.07409692501345326, 'random_strength': 8, 'l2_leaf_reg': 1.2759545744460872}. Best is trial 14 with value: 0.8256022408963586.\u001b[0m\n"
     ]
    },
    {
     "name": "stderr",
     "output_type": "stream",
     "text": [
      " 34%|███▍      | 69/200 [16:31<19:43,  9.03s/it]"
     ]
    },
    {
     "name": "stdout",
     "output_type": "stream",
     "text": [
      "\u001b[32m[I 2022-08-21 14:15:57,827]\u001b[0m Trial 68 finished with value: 0.8188655462184873 and parameters: {'depth': 7, 'learning_rate': 0.02795951673788011, 'random_strength': 6, 'l2_leaf_reg': 2.612749176412591}. Best is trial 14 with value: 0.8256022408963586.\u001b[0m\n"
     ]
    },
    {
     "name": "stderr",
     "output_type": "stream",
     "text": [
      " 35%|███▌      | 70/200 [16:41<20:22,  9.40s/it]"
     ]
    },
    {
     "name": "stdout",
     "output_type": "stream",
     "text": [
      "\u001b[32m[I 2022-08-21 14:16:08,091]\u001b[0m Trial 69 finished with value: 0.8205462184873948 and parameters: {'depth': 8, 'learning_rate': 0.01709646067275, 'random_strength': 1, 'l2_leaf_reg': 2.9198779935593726}. Best is trial 14 with value: 0.8256022408963586.\u001b[0m\n"
     ]
    },
    {
     "name": "stderr",
     "output_type": "stream",
     "text": [
      " 36%|███▌      | 71/200 [16:47<17:47,  8.27s/it]"
     ]
    },
    {
     "name": "stdout",
     "output_type": "stream",
     "text": [
      "\u001b[32m[I 2022-08-21 14:16:13,725]\u001b[0m Trial 70 finished with value: 0.8138095238095238 and parameters: {'depth': 5, 'learning_rate': 0.03965211487631871, 'random_strength': 12, 'l2_leaf_reg': 1.6679616277896034}. Best is trial 14 with value: 0.8256022408963586.\u001b[0m\n"
     ]
    },
    {
     "name": "stderr",
     "output_type": "stream",
     "text": [
      " 36%|███▌      | 72/200 [16:55<17:25,  8.17s/it]"
     ]
    },
    {
     "name": "stdout",
     "output_type": "stream",
     "text": [
      "\u001b[32m[I 2022-08-21 14:16:21,647]\u001b[0m Trial 71 finished with value: 0.8188655462184874 and parameters: {'depth': 7, 'learning_rate': 0.0521811243821294, 'random_strength': 7, 'l2_leaf_reg': 1.390341760475834}. Best is trial 14 with value: 0.8256022408963586.\u001b[0m\n"
     ]
    },
    {
     "name": "stderr",
     "output_type": "stream",
     "text": [
      " 36%|███▋      | 73/200 [17:03<17:11,  8.13s/it]"
     ]
    },
    {
     "name": "stdout",
     "output_type": "stream",
     "text": [
      "\u001b[32m[I 2022-08-21 14:16:29,676]\u001b[0m Trial 72 finished with value: 0.8104621848739495 and parameters: {'depth': 7, 'learning_rate': 0.09343954299184705, 'random_strength': 9, 'l2_leaf_reg': 1.3050459964386592}. Best is trial 14 with value: 0.8256022408963586.\u001b[0m\n"
     ]
    },
    {
     "name": "stderr",
     "output_type": "stream",
     "text": [
      " 37%|███▋      | 74/200 [17:13<18:41,  8.90s/it]"
     ]
    },
    {
     "name": "stdout",
     "output_type": "stream",
     "text": [
      "\u001b[32m[I 2022-08-21 14:16:40,392]\u001b[0m Trial 73 finished with value: 0.8138375350140057 and parameters: {'depth': 8, 'learning_rate': 0.13613304052297803, 'random_strength': 10, 'l2_leaf_reg': 1.1223915863808567}. Best is trial 14 with value: 0.8256022408963586.\u001b[0m\n"
     ]
    },
    {
     "name": "stderr",
     "output_type": "stream",
     "text": [
      " 38%|███▊      | 75/200 [17:20<17:14,  8.27s/it]"
     ]
    },
    {
     "name": "stdout",
     "output_type": "stream",
     "text": [
      "\u001b[32m[I 2022-08-21 14:16:47,201]\u001b[0m Trial 74 finished with value: 0.8171708683473391 and parameters: {'depth': 6, 'learning_rate': 0.06880562680433876, 'random_strength': 7, 'l2_leaf_reg': 1.5452485015094677}. Best is trial 14 with value: 0.8256022408963586.\u001b[0m\n"
     ]
    },
    {
     "name": "stderr",
     "output_type": "stream",
     "text": [
      " 38%|███▊      | 76/200 [17:28<16:55,  8.19s/it]"
     ]
    },
    {
     "name": "stdout",
     "output_type": "stream",
     "text": [
      "\u001b[32m[I 2022-08-21 14:16:55,203]\u001b[0m Trial 75 finished with value: 0.8222268907563025 and parameters: {'depth': 7, 'learning_rate': 0.050243832124685195, 'random_strength': 8, 'l2_leaf_reg': 1.0336548726706127}. Best is trial 14 with value: 0.8256022408963586.\u001b[0m\n"
     ]
    },
    {
     "name": "stderr",
     "output_type": "stream",
     "text": [
      " 38%|███▊      | 77/200 [17:43<20:39, 10.07s/it]"
     ]
    },
    {
     "name": "stdout",
     "output_type": "stream",
     "text": [
      "\u001b[32m[I 2022-08-21 14:17:09,668]\u001b[0m Trial 76 finished with value: 0.8172268907563026 and parameters: {'depth': 9, 'learning_rate': 0.035091679556847985, 'random_strength': 11, 'l2_leaf_reg': 1.1805758568201337}. Best is trial 14 with value: 0.8256022408963586.\u001b[0m\n"
     ]
    },
    {
     "name": "stderr",
     "output_type": "stream",
     "text": [
      " 39%|███▉      | 78/200 [17:52<20:05,  9.88s/it]"
     ]
    },
    {
     "name": "stdout",
     "output_type": "stream",
     "text": [
      "\u001b[32m[I 2022-08-21 14:17:19,097]\u001b[0m Trial 77 finished with value: 0.8205602240896359 and parameters: {'depth': 8, 'learning_rate': 0.021029535737775672, 'random_strength': 8, 'l2_leaf_reg': 1.0413732193237668}. Best is trial 14 with value: 0.8256022408963586.\u001b[0m\n"
     ]
    },
    {
     "name": "stderr",
     "output_type": "stream",
     "text": [
      " 40%|███▉      | 79/200 [18:01<19:40,  9.76s/it]"
     ]
    },
    {
     "name": "stdout",
     "output_type": "stream",
     "text": [
      "\u001b[32m[I 2022-08-21 14:17:28,569]\u001b[0m Trial 78 finished with value: 0.8104901960784314 and parameters: {'depth': 8, 'learning_rate': 0.021100173665952664, 'random_strength': 8, 'l2_leaf_reg': 1.0052790855793572}. Best is trial 14 with value: 0.8256022408963586.\u001b[0m\n"
     ]
    },
    {
     "name": "stderr",
     "output_type": "stream",
     "text": [
      " 40%|████      | 80/200 [18:12<19:59, 10.00s/it]"
     ]
    },
    {
     "name": "stdout",
     "output_type": "stream",
     "text": [
      "\u001b[32m[I 2022-08-21 14:17:39,118]\u001b[0m Trial 79 finished with value: 0.8188935574229692 and parameters: {'depth': 8, 'learning_rate': 0.04260092961333843, 'random_strength': 9, 'l2_leaf_reg': 1.0834034517136668}. Best is trial 14 with value: 0.8256022408963586.\u001b[0m\n"
     ]
    },
    {
     "name": "stderr",
     "output_type": "stream",
     "text": [
      " 40%|████      | 81/200 [18:26<22:14, 11.22s/it]"
     ]
    },
    {
     "name": "stdout",
     "output_type": "stream",
     "text": [
      "\u001b[32m[I 2022-08-21 14:17:53,186]\u001b[0m Trial 80 finished with value: 0.8238935574229693 and parameters: {'depth': 9, 'learning_rate': 0.030595490344005705, 'random_strength': 10, 'l2_leaf_reg': 1.0478810739247126}. Best is trial 14 with value: 0.8256022408963586.\u001b[0m\n"
     ]
    },
    {
     "name": "stderr",
     "output_type": "stream",
     "text": [
      " 41%|████      | 82/200 [18:39<23:21, 11.88s/it]"
     ]
    },
    {
     "name": "stdout",
     "output_type": "stream",
     "text": [
      "\u001b[32m[I 2022-08-21 14:18:06,603]\u001b[0m Trial 81 finished with value: 0.8188795518207282 and parameters: {'depth': 9, 'learning_rate': 0.021639675420848273, 'random_strength': 10, 'l2_leaf_reg': 1.054168450913169}. Best is trial 14 with value: 0.8256022408963586.\u001b[0m\n"
     ]
    },
    {
     "name": "stderr",
     "output_type": "stream",
     "text": [
      " 42%|████▏     | 83/200 [18:54<24:35, 12.61s/it]"
     ]
    },
    {
     "name": "stdout",
     "output_type": "stream",
     "text": [
      "\u001b[32m[I 2022-08-21 14:18:20,913]\u001b[0m Trial 82 finished with value: 0.8104901960784312 and parameters: {'depth': 9, 'learning_rate': 0.02983812087091095, 'random_strength': 11, 'l2_leaf_reg': 1.1686484426757298}. Best is trial 14 with value: 0.8256022408963586.\u001b[0m\n"
     ]
    },
    {
     "name": "stderr",
     "output_type": "stream",
     "text": [
      " 42%|████▏     | 84/200 [19:16<30:01, 15.53s/it]"
     ]
    },
    {
     "name": "stdout",
     "output_type": "stream",
     "text": [
      "\u001b[32m[I 2022-08-21 14:18:43,256]\u001b[0m Trial 83 finished with value: 0.8071288515406163 and parameters: {'depth': 10, 'learning_rate': 0.04462672549447325, 'random_strength': 8, 'l2_leaf_reg': 1.1479314776643892}. Best is trial 14 with value: 0.8256022408963586.\u001b[0m\n"
     ]
    },
    {
     "name": "stderr",
     "output_type": "stream",
     "text": [
      " 42%|████▎     | 85/200 [19:26<26:36, 13.89s/it]"
     ]
    },
    {
     "name": "stdout",
     "output_type": "stream",
     "text": [
      "\u001b[32m[I 2022-08-21 14:18:53,312]\u001b[0m Trial 84 finished with value: 0.8105042016806723 and parameters: {'depth': 8, 'learning_rate': 0.03469905434476467, 'random_strength': 9, 'l2_leaf_reg': 1.2546118254132816}. Best is trial 14 with value: 0.8256022408963586.\u001b[0m\n"
     ]
    },
    {
     "name": "stderr",
     "output_type": "stream",
     "text": [
      " 43%|████▎     | 86/200 [19:30<20:36, 10.84s/it]"
     ]
    },
    {
     "name": "stdout",
     "output_type": "stream",
     "text": [
      "\u001b[32m[I 2022-08-21 14:18:57,054]\u001b[0m Trial 85 finished with value: 0.8004341736694677 and parameters: {'depth': 2, 'learning_rate': 0.016193139733950177, 'random_strength': 8, 'l2_leaf_reg': 1.038911183722895}. Best is trial 14 with value: 0.8256022408963586.\u001b[0m\n"
     ]
    },
    {
     "name": "stderr",
     "output_type": "stream",
     "text": [
      " 44%|████▎     | 87/200 [19:38<18:51, 10.02s/it]"
     ]
    },
    {
     "name": "stdout",
     "output_type": "stream",
     "text": [
      "\u001b[32m[I 2022-08-21 14:19:05,144]\u001b[0m Trial 86 finished with value: 0.8205602240896359 and parameters: {'depth': 7, 'learning_rate': 0.060003079863171806, 'random_strength': 10, 'l2_leaf_reg': 3.304811795331587}. Best is trial 14 with value: 0.8256022408963586.\u001b[0m\n"
     ]
    },
    {
     "name": "stderr",
     "output_type": "stream",
     "text": [
      " 44%|████▍     | 88/200 [19:48<18:53, 10.12s/it]"
     ]
    },
    {
     "name": "stdout",
     "output_type": "stream",
     "text": [
      "\u001b[32m[I 2022-08-21 14:19:15,502]\u001b[0m Trial 87 finished with value: 0.8138375350140056 and parameters: {'depth': 8, 'learning_rate': 0.11191258075991711, 'random_strength': 9, 'l2_leaf_reg': 1.2270839177292931}. Best is trial 14 with value: 0.8256022408963586.\u001b[0m\n"
     ]
    },
    {
     "name": "stderr",
     "output_type": "stream",
     "text": [
      " 44%|████▍     | 89/200 [20:25<33:10, 17.94s/it]"
     ]
    },
    {
     "name": "stdout",
     "output_type": "stream",
     "text": [
      "\u001b[32m[I 2022-08-21 14:19:51,678]\u001b[0m Trial 88 finished with value: 0.8104761904761905 and parameters: {'depth': 11, 'learning_rate': 0.03016352848438147, 'random_strength': 5, 'l2_leaf_reg': 1.3594726659275493}. Best is trial 14 with value: 0.8256022408963586.\u001b[0m\n"
     ]
    },
    {
     "name": "stderr",
     "output_type": "stream",
     "text": [
      " 45%|████▌     | 90/200 [20:32<27:13, 14.85s/it]"
     ]
    },
    {
     "name": "stdout",
     "output_type": "stream",
     "text": [
      "\u001b[32m[I 2022-08-21 14:19:59,340]\u001b[0m Trial 89 finished with value: 0.8188235294117646 and parameters: {'depth': 7, 'learning_rate': 0.01964285731549384, 'random_strength': 6, 'l2_leaf_reg': 1.0656507358641023}. Best is trial 14 with value: 0.8256022408963586.\u001b[0m\n"
     ]
    },
    {
     "name": "stderr",
     "output_type": "stream",
     "text": [
      " 46%|████▌     | 91/200 [20:46<26:30, 14.59s/it]"
     ]
    },
    {
     "name": "stdout",
     "output_type": "stream",
     "text": [
      "\u001b[32m[I 2022-08-21 14:20:13,319]\u001b[0m Trial 90 finished with value: 0.8105042016806724 and parameters: {'depth': 9, 'learning_rate': 0.025838833848469377, 'random_strength': 9, 'l2_leaf_reg': 2.9867193122123954}. Best is trial 14 with value: 0.8256022408963586.\u001b[0m\n"
     ]
    },
    {
     "name": "stderr",
     "output_type": "stream",
     "text": [
      " 46%|████▌     | 92/200 [20:54<22:44, 12.63s/it]"
     ]
    },
    {
     "name": "stdout",
     "output_type": "stream",
     "text": [
      "\u001b[32m[I 2022-08-21 14:20:21,386]\u001b[0m Trial 91 finished with value: 0.8171848739495798 and parameters: {'depth': 7, 'learning_rate': 0.05529309873354279, 'random_strength': 10, 'l2_leaf_reg': 3.418847232072501}. Best is trial 14 with value: 0.8256022408963586.\u001b[0m\n"
     ]
    },
    {
     "name": "stderr",
     "output_type": "stream",
     "text": [
      " 46%|████▋     | 93/200 [21:05<21:24, 12.00s/it]"
     ]
    },
    {
     "name": "stdout",
     "output_type": "stream",
     "text": [
      "\u001b[32m[I 2022-08-21 14:20:31,911]\u001b[0m Trial 92 finished with value: 0.8255742296918769 and parameters: {'depth': 8, 'learning_rate': 0.06679103526874514, 'random_strength': 11, 'l2_leaf_reg': 3.8983835636709996}. Best is trial 14 with value: 0.8256022408963586.\u001b[0m\n"
     ]
    },
    {
     "name": "stderr",
     "output_type": "stream",
     "text": [
      " 47%|████▋     | 94/200 [21:15<20:22, 11.53s/it]"
     ]
    },
    {
     "name": "stdout",
     "output_type": "stream",
     "text": [
      "\u001b[32m[I 2022-08-21 14:20:42,337]\u001b[0m Trial 93 finished with value: 0.8104621848739496 and parameters: {'depth': 8, 'learning_rate': 0.07067628474224048, 'random_strength': 12, 'l2_leaf_reg': 4.713327116953548}. Best is trial 14 with value: 0.8256022408963586.\u001b[0m\n"
     ]
    },
    {
     "name": "stderr",
     "output_type": "stream",
     "text": [
      " 48%|████▊     | 95/200 [21:23<18:20, 10.48s/it]"
     ]
    },
    {
     "name": "stdout",
     "output_type": "stream",
     "text": [
      "\u001b[32m[I 2022-08-21 14:20:50,370]\u001b[0m Trial 94 finished with value: 0.8205322128851542 and parameters: {'depth': 7, 'learning_rate': 0.08376934283703033, 'random_strength': 11, 'l2_leaf_reg': 3.1086079539000018}. Best is trial 14 with value: 0.8256022408963586.\u001b[0m\n"
     ]
    },
    {
     "name": "stderr",
     "output_type": "stream",
     "text": [
      " 48%|████▊     | 96/200 [21:31<16:50,  9.71s/it]"
     ]
    },
    {
     "name": "stdout",
     "output_type": "stream",
     "text": [
      "\u001b[32m[I 2022-08-21 14:20:58,290]\u001b[0m Trial 95 finished with value: 0.8288935574229692 and parameters: {'depth': 7, 'learning_rate': 0.0655449752625249, 'random_strength': 10, 'l2_leaf_reg': 3.7763820094293927}. Best is trial 95 with value: 0.8288935574229692.\u001b[0m\n"
     ]
    },
    {
     "name": "stderr",
     "output_type": "stream",
     "text": [
      " 48%|████▊     | 97/200 [21:42<17:05,  9.95s/it]"
     ]
    },
    {
     "name": "stdout",
     "output_type": "stream",
     "text": [
      "\u001b[32m[I 2022-08-21 14:21:08,809]\u001b[0m Trial 96 finished with value: 0.8154901960784313 and parameters: {'depth': 8, 'learning_rate': 0.12289560350984433, 'random_strength': 13, 'l2_leaf_reg': 3.946515208663221}. Best is trial 95 with value: 0.8288935574229692.\u001b[0m\n"
     ]
    },
    {
     "name": "stderr",
     "output_type": "stream",
     "text": [
      " 49%|████▉     | 98/200 [21:50<15:58,  9.40s/it]"
     ]
    },
    {
     "name": "stdout",
     "output_type": "stream",
     "text": [
      "\u001b[32m[I 2022-08-21 14:21:16,908]\u001b[0m Trial 97 finished with value: 0.813781512605042 and parameters: {'depth': 7, 'learning_rate': 0.1809795017233251, 'random_strength': 11, 'l2_leaf_reg': 4.322218118757437}. Best is trial 95 with value: 0.8288935574229692.\u001b[0m\n"
     ]
    },
    {
     "name": "stderr",
     "output_type": "stream",
     "text": [
      " 50%|████▉     | 99/200 [21:56<14:04,  8.36s/it]"
     ]
    },
    {
     "name": "stdout",
     "output_type": "stream",
     "text": [
      "\u001b[32m[I 2022-08-21 14:21:22,842]\u001b[0m Trial 98 finished with value: 0.8171708683473389 and parameters: {'depth': 5, 'learning_rate': 0.0965874199800847, 'random_strength': 10, 'l2_leaf_reg': 3.6379198258460574}. Best is trial 95 with value: 0.8288935574229692.\u001b[0m\n"
     ]
    },
    {
     "name": "stderr",
     "output_type": "stream",
     "text": [
      " 50%|█████     | 100/200 [22:18<20:48, 12.48s/it]"
     ]
    },
    {
     "name": "stdout",
     "output_type": "stream",
     "text": [
      "\u001b[32m[I 2022-08-21 14:21:44,954]\u001b[0m Trial 99 finished with value: 0.812142857142857 and parameters: {'depth': 10, 'learning_rate': 0.047851737782656056, 'random_strength': 12, 'l2_leaf_reg': 4.226837557551861}. Best is trial 95 with value: 0.8288935574229692.\u001b[0m\n"
     ]
    },
    {
     "name": "stderr",
     "output_type": "stream",
     "text": [
      " 50%|█████     | 101/200 [22:25<17:47, 10.78s/it]"
     ]
    },
    {
     "name": "stdout",
     "output_type": "stream",
     "text": [
      "\u001b[32m[I 2022-08-21 14:21:51,762]\u001b[0m Trial 100 finished with value: 0.8188655462184873 and parameters: {'depth': 6, 'learning_rate': 0.07053147173006445, 'random_strength': 9, 'l2_leaf_reg': 3.808098468884541}. Best is trial 95 with value: 0.8288935574229692.\u001b[0m\n"
     ]
    },
    {
     "name": "stderr",
     "output_type": "stream",
     "text": [
      " 51%|█████     | 102/200 [22:33<16:12,  9.93s/it]"
     ]
    },
    {
     "name": "stdout",
     "output_type": "stream",
     "text": [
      "\u001b[32m[I 2022-08-21 14:21:59,698]\u001b[0m Trial 101 finished with value: 0.8188515406162464 and parameters: {'depth': 7, 'learning_rate': 0.03672047183670043, 'random_strength': 10, 'l2_leaf_reg': 3.384630812971854}. Best is trial 95 with value: 0.8288935574229692.\u001b[0m\n"
     ]
    },
    {
     "name": "stderr",
     "output_type": "stream",
     "text": [
      " 52%|█████▏    | 103/200 [22:43<16:09, 10.00s/it]"
     ]
    },
    {
     "name": "stdout",
     "output_type": "stream",
     "text": [
      "\u001b[32m[I 2022-08-21 14:22:09,866]\u001b[0m Trial 102 finished with value: 0.8104621848739495 and parameters: {'depth': 8, 'learning_rate': 0.047889173752345734, 'random_strength': 8, 'l2_leaf_reg': 5.18880630076765}. Best is trial 95 with value: 0.8288935574229692.\u001b[0m\n"
     ]
    },
    {
     "name": "stderr",
     "output_type": "stream",
     "text": [
      " 52%|█████▏    | 104/200 [22:51<15:06,  9.44s/it]"
     ]
    },
    {
     "name": "stdout",
     "output_type": "stream",
     "text": [
      "\u001b[32m[I 2022-08-21 14:22:18,012]\u001b[0m Trial 103 finished with value: 0.8205182072829131 and parameters: {'depth': 7, 'learning_rate': 0.05807988736559063, 'random_strength': 10, 'l2_leaf_reg': 3.5897707962273344}. Best is trial 95 with value: 0.8288935574229692.\u001b[0m\n"
     ]
    },
    {
     "name": "stderr",
     "output_type": "stream",
     "text": [
      " 52%|█████▎    | 105/200 [23:05<17:08, 10.83s/it]"
     ]
    },
    {
     "name": "stdout",
     "output_type": "stream",
     "text": [
      "\u001b[32m[I 2022-08-21 14:22:32,067]\u001b[0m Trial 104 finished with value: 0.8138375350140057 and parameters: {'depth': 9, 'learning_rate': 0.025280629644912237, 'random_strength': 8, 'l2_leaf_reg': 1.4502625302914278}. Best is trial 95 with value: 0.8288935574229692.\u001b[0m\n"
     ]
    },
    {
     "name": "stderr",
     "output_type": "stream",
     "text": [
      " 53%|█████▎    | 106/200 [23:15<16:35, 10.59s/it]"
     ]
    },
    {
     "name": "stdout",
     "output_type": "stream",
     "text": [
      "\u001b[32m[I 2022-08-21 14:22:42,090]\u001b[0m Trial 105 finished with value: 0.8222128851540618 and parameters: {'depth': 8, 'learning_rate': 0.03189116284700633, 'random_strength': 11, 'l2_leaf_reg': 2.4955171890065024}. Best is trial 95 with value: 0.8288935574229692.\u001b[0m\n"
     ]
    },
    {
     "name": "stderr",
     "output_type": "stream",
     "text": [
      " 54%|█████▎    | 107/200 [23:25<16:22, 10.57s/it]"
     ]
    },
    {
     "name": "stdout",
     "output_type": "stream",
     "text": [
      "\u001b[32m[I 2022-08-21 14:22:52,611]\u001b[0m Trial 106 finished with value: 0.8087675070028013 and parameters: {'depth': 8, 'learning_rate': 0.1514810442714235, 'random_strength': 11, 'l2_leaf_reg': 2.487270905744661}. Best is trial 95 with value: 0.8288935574229692.\u001b[0m\n"
     ]
    },
    {
     "name": "stderr",
     "output_type": "stream",
     "text": [
      " 54%|█████▍    | 108/200 [23:40<17:52, 11.66s/it]"
     ]
    },
    {
     "name": "stdout",
     "output_type": "stream",
     "text": [
      "\u001b[32m[I 2022-08-21 14:23:06,811]\u001b[0m Trial 107 finished with value: 0.8155322128851541 and parameters: {'depth': 9, 'learning_rate': 0.03080564349610056, 'random_strength': 12, 'l2_leaf_reg': 2.629717787074434}. Best is trial 95 with value: 0.8288935574229692.\u001b[0m\n"
     ]
    },
    {
     "name": "stderr",
     "output_type": "stream",
     "text": [
      " 55%|█████▍    | 109/200 [23:50<17:06, 11.28s/it]"
     ]
    },
    {
     "name": "stdout",
     "output_type": "stream",
     "text": [
      "\u001b[32m[I 2022-08-21 14:23:17,221]\u001b[0m Trial 108 finished with value: 0.8171708683473389 and parameters: {'depth': 8, 'learning_rate': 0.08398254560773104, 'random_strength': 10, 'l2_leaf_reg': 2.1853560796464535}. Best is trial 95 with value: 0.8288935574229692.\u001b[0m\n"
     ]
    },
    {
     "name": "stderr",
     "output_type": "stream",
     "text": [
      " 55%|█████▌    | 110/200 [24:06<18:52, 12.58s/it]"
     ]
    },
    {
     "name": "stdout",
     "output_type": "stream",
     "text": [
      "\u001b[32m[I 2022-08-21 14:23:32,825]\u001b[0m Trial 109 finished with value: 0.8155182072829132 and parameters: {'depth': 9, 'learning_rate': 0.06433722494144715, 'random_strength': 14, 'l2_leaf_reg': 1.9195003435869111}. Best is trial 95 with value: 0.8288935574229692.\u001b[0m\n"
     ]
    },
    {
     "name": "stderr",
     "output_type": "stream",
     "text": [
      " 56%|█████▌    | 111/200 [24:14<16:38, 11.22s/it]"
     ]
    },
    {
     "name": "stdout",
     "output_type": "stream",
     "text": [
      "\u001b[32m[I 2022-08-21 14:23:40,879]\u001b[0m Trial 110 finished with value: 0.8255742296918769 and parameters: {'depth': 7, 'learning_rate': 0.04115250469461057, 'random_strength': 11, 'l2_leaf_reg': 4.711092692242746}. Best is trial 95 with value: 0.8288935574229692.\u001b[0m\n"
     ]
    },
    {
     "name": "stderr",
     "output_type": "stream",
     "text": [
      " 56%|█████▌    | 112/200 [24:22<15:05, 10.29s/it]"
     ]
    },
    {
     "name": "stdout",
     "output_type": "stream",
     "text": [
      "\u001b[32m[I 2022-08-21 14:23:48,990]\u001b[0m Trial 111 finished with value: 0.8222268907563025 and parameters: {'depth': 7, 'learning_rate': 0.040561380014389116, 'random_strength': 11, 'l2_leaf_reg': 4.79011609874158}. Best is trial 95 with value: 0.8288935574229692.\u001b[0m\n"
     ]
    },
    {
     "name": "stderr",
     "output_type": "stream",
     "text": [
      " 56%|█████▋    | 113/200 [24:28<13:20,  9.20s/it]"
     ]
    },
    {
     "name": "stdout",
     "output_type": "stream",
     "text": [
      "\u001b[32m[I 2022-08-21 14:23:55,646]\u001b[0m Trial 112 finished with value: 0.8155042016806722 and parameters: {'depth': 6, 'learning_rate': 0.04156011518107431, 'random_strength': 11, 'l2_leaf_reg': 4.6866274736252445}. Best is trial 95 with value: 0.8288935574229692.\u001b[0m\n"
     ]
    },
    {
     "name": "stderr",
     "output_type": "stream",
     "text": [
      " 57%|█████▋    | 114/200 [24:36<12:37,  8.81s/it]"
     ]
    },
    {
     "name": "stdout",
     "output_type": "stream",
     "text": [
      "\u001b[32m[I 2022-08-21 14:24:03,539]\u001b[0m Trial 113 finished with value: 0.820532212885154 and parameters: {'depth': 7, 'learning_rate': 0.0366107815726456, 'random_strength': 13, 'l2_leaf_reg': 5.4477476261659765}. Best is trial 95 with value: 0.8288935574229692.\u001b[0m\n"
     ]
    },
    {
     "name": "stderr",
     "output_type": "stream",
     "text": [
      " 57%|█████▊    | 115/200 [24:44<12:09,  8.58s/it]"
     ]
    },
    {
     "name": "stdout",
     "output_type": "stream",
     "text": [
      "\u001b[32m[I 2022-08-21 14:24:11,587]\u001b[0m Trial 114 finished with value: 0.8154761904761904 and parameters: {'depth': 7, 'learning_rate': 0.04820588687215749, 'random_strength': 12, 'l2_leaf_reg': 4.8991275688633165}. Best is trial 95 with value: 0.8288935574229692.\u001b[0m\n"
     ]
    },
    {
     "name": "stderr",
     "output_type": "stream",
     "text": [
      " 58%|█████▊    | 116/200 [24:51<11:07,  7.95s/it]"
     ]
    },
    {
     "name": "stdout",
     "output_type": "stream",
     "text": [
      "\u001b[32m[I 2022-08-21 14:24:18,053]\u001b[0m Trial 115 finished with value: 0.8121708683473388 and parameters: {'depth': 6, 'learning_rate': 0.03224530245969133, 'random_strength': 11, 'l2_leaf_reg': 4.433788982444605}. Best is trial 95 with value: 0.8288935574229692.\u001b[0m\n"
     ]
    },
    {
     "name": "stderr",
     "output_type": "stream",
     "text": [
      " 58%|█████▊    | 117/200 [24:59<10:51,  7.85s/it]"
     ]
    },
    {
     "name": "stdout",
     "output_type": "stream",
     "text": [
      "\u001b[32m[I 2022-08-21 14:24:25,693]\u001b[0m Trial 116 finished with value: 0.8171708683473389 and parameters: {'depth': 7, 'learning_rate': 0.027483668364170034, 'random_strength': 11, 'l2_leaf_reg': 6.337063877138874}. Best is trial 95 with value: 0.8288935574229692.\u001b[0m\n"
     ]
    },
    {
     "name": "stderr",
     "output_type": "stream",
     "text": [
      " 59%|█████▉    | 118/200 [25:05<09:59,  7.31s/it]"
     ]
    },
    {
     "name": "stdout",
     "output_type": "stream",
     "text": [
      "\u001b[32m[I 2022-08-21 14:24:31,719]\u001b[0m Trial 117 finished with value: 0.8138235294117646 and parameters: {'depth': 5, 'learning_rate': 0.05356935048206582, 'random_strength': 10, 'l2_leaf_reg': 3.839350545534862}. Best is trial 95 with value: 0.8288935574229692.\u001b[0m\n"
     ]
    },
    {
     "name": "stderr",
     "output_type": "stream",
     "text": [
      " 60%|█████▉    | 119/200 [25:10<08:56,  6.63s/it]"
     ]
    },
    {
     "name": "stdout",
     "output_type": "stream",
     "text": [
      "\u001b[32m[I 2022-08-21 14:24:36,769]\u001b[0m Trial 118 finished with value: 0.8121848739495798 and parameters: {'depth': 4, 'learning_rate': 0.04225362765790022, 'random_strength': 9, 'l2_leaf_reg': 5.790525092921234}. Best is trial 95 with value: 0.8288935574229692.\u001b[0m\n"
     ]
    },
    {
     "name": "stderr",
     "output_type": "stream",
     "text": [
      " 60%|██████    | 120/200 [25:16<08:54,  6.69s/it]"
     ]
    },
    {
     "name": "stdout",
     "output_type": "stream",
     "text": [
      "\u001b[32m[I 2022-08-21 14:24:43,591]\u001b[0m Trial 119 finished with value: 0.8188515406162464 and parameters: {'depth': 6, 'learning_rate': 0.0623916817207849, 'random_strength': 13, 'l2_leaf_reg': 4.1455548590647595}. Best is trial 95 with value: 0.8288935574229692.\u001b[0m\n"
     ]
    },
    {
     "name": "stderr",
     "output_type": "stream",
     "text": [
      " 60%|██████    | 121/200 [25:25<09:36,  7.30s/it]"
     ]
    },
    {
     "name": "stdout",
     "output_type": "stream",
     "text": [
      "\u001b[32m[I 2022-08-21 14:24:52,315]\u001b[0m Trial 120 finished with value: 0.8188375350140055 and parameters: {'depth': 8, 'learning_rate': 0.015290391804401088, 'random_strength': 11, 'l2_leaf_reg': 1.6119083682530546}. Best is trial 95 with value: 0.8288935574229692.\u001b[0m\n"
     ]
    },
    {
     "name": "stderr",
     "output_type": "stream",
     "text": [
      " 61%|██████    | 122/200 [25:36<10:49,  8.32s/it]"
     ]
    },
    {
     "name": "stdout",
     "output_type": "stream",
     "text": [
      "\u001b[32m[I 2022-08-21 14:25:03,028]\u001b[0m Trial 121 finished with value: 0.8054341736694678 and parameters: {'depth': 8, 'learning_rate': 0.1018803830009237, 'random_strength': 9, 'l2_leaf_reg': 2.7564056083308035}. Best is trial 95 with value: 0.8288935574229692.\u001b[0m\n"
     ]
    },
    {
     "name": "stderr",
     "output_type": "stream",
     "text": [
      " 62%|██████▏   | 123/200 [25:46<11:16,  8.79s/it]"
     ]
    },
    {
     "name": "stdout",
     "output_type": "stream",
     "text": [
      "\u001b[32m[I 2022-08-21 14:25:12,908]\u001b[0m Trial 122 finished with value: 0.8188795518207284 and parameters: {'depth': 8, 'learning_rate': 0.0370904830776379, 'random_strength': 9, 'l2_leaf_reg': 4.92532305050247}. Best is trial 95 with value: 0.8288935574229692.\u001b[0m\n"
     ]
    },
    {
     "name": "stderr",
     "output_type": "stream",
     "text": [
      " 62%|██████▏   | 124/200 [25:54<10:52,  8.58s/it]"
     ]
    },
    {
     "name": "stdout",
     "output_type": "stream",
     "text": [
      "\u001b[32m[I 2022-08-21 14:25:20,996]\u001b[0m Trial 123 finished with value: 0.8121428571428572 and parameters: {'depth': 7, 'learning_rate': 0.21958180786606923, 'random_strength': 19, 'l2_leaf_reg': 3.091134586821314}. Best is trial 95 with value: 0.8288935574229692.\u001b[0m\n"
     ]
    },
    {
     "name": "stderr",
     "output_type": "stream",
     "text": [
      " 62%|██████▎   | 125/200 [26:04<11:26,  9.16s/it]"
     ]
    },
    {
     "name": "stdout",
     "output_type": "stream",
     "text": [
      "\u001b[32m[I 2022-08-21 14:25:31,500]\u001b[0m Trial 124 finished with value: 0.8171988795518208 and parameters: {'depth': 8, 'learning_rate': 0.04541985511115777, 'random_strength': 10, 'l2_leaf_reg': 3.26026546377362}. Best is trial 95 with value: 0.8288935574229692.\u001b[0m\n"
     ]
    },
    {
     "name": "stderr",
     "output_type": "stream",
     "text": [
      " 63%|██████▎   | 126/200 [26:12<10:48,  8.77s/it]"
     ]
    },
    {
     "name": "stdout",
     "output_type": "stream",
     "text": [
      "\u001b[32m[I 2022-08-21 14:25:39,358]\u001b[0m Trial 125 finished with value: 0.8138095238095238 and parameters: {'depth': 7, 'learning_rate': 0.024256960138212443, 'random_strength': 7, 'l2_leaf_reg': 1.6923158900013906}. Best is trial 95 with value: 0.8288935574229692.\u001b[0m\n"
     ]
    },
    {
     "name": "stderr",
     "output_type": "stream",
     "text": [
      " 64%|██████▎   | 127/200 [26:23<11:16,  9.27s/it]"
     ]
    },
    {
     "name": "stdout",
     "output_type": "stream",
     "text": [
      "\u001b[32m[I 2022-08-21 14:25:49,796]\u001b[0m Trial 126 finished with value: 0.8155042016806723 and parameters: {'depth': 8, 'learning_rate': 0.07594830542788102, 'random_strength': 10, 'l2_leaf_reg': 1.8556016524124743}. Best is trial 95 with value: 0.8288935574229692.\u001b[0m\n"
     ]
    },
    {
     "name": "stderr",
     "output_type": "stream",
     "text": [
      " 64%|██████▍   | 128/200 [26:38<13:11, 11.00s/it]"
     ]
    },
    {
     "name": "stdout",
     "output_type": "stream",
     "text": [
      "\u001b[32m[I 2022-08-21 14:26:04,829]\u001b[0m Trial 127 finished with value: 0.8054481792717088 and parameters: {'depth': 9, 'learning_rate': 0.05295893715378531, 'random_strength': 12, 'l2_leaf_reg': 1.5114166703256768}. Best is trial 95 with value: 0.8288935574229692.\u001b[0m\n"
     ]
    },
    {
     "name": "stderr",
     "output_type": "stream",
     "text": [
      " 64%|██████▍   | 129/200 [26:46<11:55, 10.07s/it]"
     ]
    },
    {
     "name": "stdout",
     "output_type": "stream",
     "text": [
      "\u001b[32m[I 2022-08-21 14:26:12,744]\u001b[0m Trial 128 finished with value: 0.820546218487395 and parameters: {'depth': 7, 'learning_rate': 0.029689286522102173, 'random_strength': 11, 'l2_leaf_reg': 4.604664207436947}. Best is trial 95 with value: 0.8288935574229692.\u001b[0m\n"
     ]
    },
    {
     "name": "stderr",
     "output_type": "stream",
     "text": [
      " 65%|██████▌   | 130/200 [26:54<11:06,  9.52s/it]"
     ]
    },
    {
     "name": "stdout",
     "output_type": "stream",
     "text": [
      "\u001b[32m[I 2022-08-21 14:26:20,972]\u001b[0m Trial 129 finished with value: 0.8155042016806723 and parameters: {'depth': 7, 'learning_rate': 0.12484887202890738, 'random_strength': 9, 'l2_leaf_reg': 3.9745193368754306}. Best is trial 95 with value: 0.8288935574229692.\u001b[0m\n"
     ]
    },
    {
     "name": "stderr",
     "output_type": "stream",
     "text": [
      " 66%|██████▌   | 131/200 [27:01<10:01,  8.72s/it]"
     ]
    },
    {
     "name": "stdout",
     "output_type": "stream",
     "text": [
      "\u001b[32m[I 2022-08-21 14:26:27,814]\u001b[0m Trial 130 finished with value: 0.8138095238095238 and parameters: {'depth': 6, 'learning_rate': 0.08859320665782738, 'random_strength': 9, 'l2_leaf_reg': 2.088018955977243}. Best is trial 95 with value: 0.8288935574229692.\u001b[0m\n"
     ]
    },
    {
     "name": "stderr",
     "output_type": "stream",
     "text": [
      " 66%|██████▌   | 132/200 [27:10<10:10,  8.98s/it]"
     ]
    },
    {
     "name": "stdout",
     "output_type": "stream",
     "text": [
      "\u001b[32m[I 2022-08-21 14:26:37,400]\u001b[0m Trial 131 finished with value: 0.820546218487395 and parameters: {'depth': 8, 'learning_rate': 0.01946144275242501, 'random_strength': 7, 'l2_leaf_reg': 1.0087421936606868}. Best is trial 95 with value: 0.8288935574229692.\u001b[0m\n"
     ]
    },
    {
     "name": "stderr",
     "output_type": "stream",
     "text": [
      " 66%|██████▋   | 133/200 [27:21<10:29,  9.40s/it]"
     ]
    },
    {
     "name": "stdout",
     "output_type": "stream",
     "text": [
      "\u001b[32m[I 2022-08-21 14:26:47,771]\u001b[0m Trial 132 finished with value: 0.8222268907563025 and parameters: {'depth': 8, 'learning_rate': 0.03537935120114055, 'random_strength': 8, 'l2_leaf_reg': 1.1337405055400593}. Best is trial 95 with value: 0.8288935574229692.\u001b[0m\n"
     ]
    },
    {
     "name": "stderr",
     "output_type": "stream",
     "text": [
      " 67%|██████▋   | 134/200 [27:31<10:30,  9.56s/it]"
     ]
    },
    {
     "name": "stdout",
     "output_type": "stream",
     "text": [
      "\u001b[32m[I 2022-08-21 14:26:57,715]\u001b[0m Trial 133 finished with value: 0.8138375350140057 and parameters: {'depth': 8, 'learning_rate': 0.032624987980730914, 'random_strength': 8, 'l2_leaf_reg': 1.175457062845601}. Best is trial 95 with value: 0.8288935574229692.\u001b[0m\n"
     ]
    },
    {
     "name": "stderr",
     "output_type": "stream",
     "text": [
      " 68%|██████▊   | 135/200 [27:38<09:49,  9.07s/it]"
     ]
    },
    {
     "name": "stdout",
     "output_type": "stream",
     "text": [
      "\u001b[32m[I 2022-08-21 14:27:05,641]\u001b[0m Trial 134 finished with value: 0.8171708683473391 and parameters: {'depth': 7, 'learning_rate': 0.04013653045255502, 'random_strength': 10, 'l2_leaf_reg': 1.1223743748415524}. Best is trial 95 with value: 0.8288935574229692.\u001b[0m\n"
     ]
    },
    {
     "name": "stderr",
     "output_type": "stream",
     "text": [
      " 68%|██████▊   | 136/200 [27:49<10:15,  9.62s/it]"
     ]
    },
    {
     "name": "stdout",
     "output_type": "stream",
     "text": [
      "\u001b[32m[I 2022-08-21 14:27:16,555]\u001b[0m Trial 135 finished with value: 0.820546218487395 and parameters: {'depth': 8, 'learning_rate': 0.06423513762152327, 'random_strength': 8, 'l2_leaf_reg': 3.5289123701637073}. Best is trial 95 with value: 0.8288935574229692.\u001b[0m\n"
     ]
    },
    {
     "name": "stderr",
     "output_type": "stream",
     "text": [
      " 68%|██████▊   | 137/200 [28:00<10:16,  9.79s/it]"
     ]
    },
    {
     "name": "stdout",
     "output_type": "stream",
     "text": [
      "\u001b[32m[I 2022-08-21 14:27:26,725]\u001b[0m Trial 136 finished with value: 0.820546218487395 and parameters: {'depth': 8, 'learning_rate': 0.04641925856438032, 'random_strength': 9, 'l2_leaf_reg': 1.3547536641729072}. Best is trial 95 with value: 0.8288935574229692.\u001b[0m\n"
     ]
    },
    {
     "name": "stderr",
     "output_type": "stream",
     "text": [
      " 69%|██████▉   | 138/200 [28:08<09:35,  9.29s/it]"
     ]
    },
    {
     "name": "stdout",
     "output_type": "stream",
     "text": [
      "\u001b[32m[I 2022-08-21 14:27:34,845]\u001b[0m Trial 137 finished with value: 0.8255742296918767 and parameters: {'depth': 7, 'learning_rate': 0.036580907158886386, 'random_strength': 11, 'l2_leaf_reg': 5.269079140684026}. Best is trial 95 with value: 0.8288935574229692.\u001b[0m\n"
     ]
    },
    {
     "name": "stderr",
     "output_type": "stream",
     "text": [
      " 70%|██████▉   | 139/200 [28:14<08:36,  8.47s/it]"
     ]
    },
    {
     "name": "stdout",
     "output_type": "stream",
     "text": [
      "\u001b[32m[I 2022-08-21 14:27:41,393]\u001b[0m Trial 138 finished with value: 0.8138235294117646 and parameters: {'depth': 6, 'learning_rate': 0.02735514995963005, 'random_strength': 11, 'l2_leaf_reg': 5.8935601287690895}. Best is trial 95 with value: 0.8288935574229692.\u001b[0m\n"
     ]
    },
    {
     "name": "stderr",
     "output_type": "stream",
     "text": [
      " 70%|███████   | 140/200 [28:22<08:16,  8.27s/it]"
     ]
    },
    {
     "name": "stdout",
     "output_type": "stream",
     "text": [
      "\u001b[32m[I 2022-08-21 14:27:49,217]\u001b[0m Trial 139 finished with value: 0.812142857142857 and parameters: {'depth': 7, 'learning_rate': 0.03438067228604841, 'random_strength': 12, 'l2_leaf_reg': 5.4189853242018025}. Best is trial 95 with value: 0.8288935574229692.\u001b[0m\n"
     ]
    },
    {
     "name": "stderr",
     "output_type": "stream",
     "text": [
      " 70%|███████   | 141/200 [28:27<07:08,  7.26s/it]"
     ]
    },
    {
     "name": "stdout",
     "output_type": "stream",
     "text": [
      "\u001b[32m[I 2022-08-21 14:27:54,118]\u001b[0m Trial 140 finished with value: 0.8070728291316526 and parameters: {'depth': 4, 'learning_rate': 0.023926691267022578, 'random_strength': 11, 'l2_leaf_reg': 1.4299675282626876}. Best is trial 95 with value: 0.8288935574229692.\u001b[0m\n"
     ]
    },
    {
     "name": "stderr",
     "output_type": "stream",
     "text": [
      " 71%|███████   | 142/200 [28:35<07:14,  7.49s/it]"
     ]
    },
    {
     "name": "stdout",
     "output_type": "stream",
     "text": [
      "\u001b[32m[I 2022-08-21 14:28:02,135]\u001b[0m Trial 141 finished with value: 0.8037675070028012 and parameters: {'depth': 7, 'learning_rate': 0.27897096695972334, 'random_strength': 10, 'l2_leaf_reg': 4.965510389820227}. Best is trial 95 with value: 0.8288935574229692.\u001b[0m\n"
     ]
    },
    {
     "name": "stderr",
     "output_type": "stream",
     "text": [
      " 72%|███████▏  | 143/200 [28:43<07:18,  7.69s/it]"
     ]
    },
    {
     "name": "stdout",
     "output_type": "stream",
     "text": [
      "\u001b[32m[I 2022-08-21 14:28:10,287]\u001b[0m Trial 142 finished with value: 0.8121288515406162 and parameters: {'depth': 7, 'learning_rate': 0.054904839744851094, 'random_strength': 11, 'l2_leaf_reg': 5.19157437794082}. Best is trial 95 with value: 0.8288935574229692.\u001b[0m\n"
     ]
    },
    {
     "name": "stderr",
     "output_type": "stream",
     "text": [
      " 72%|███████▏  | 144/200 [28:53<07:50,  8.41s/it]"
     ]
    },
    {
     "name": "stdout",
     "output_type": "stream",
     "text": [
      "\u001b[32m[I 2022-08-21 14:28:20,383]\u001b[0m Trial 143 finished with value: 0.8171848739495798 and parameters: {'depth': 8, 'learning_rate': 0.0415829141771849, 'random_strength': 10, 'l2_leaf_reg': 1.2703840468733492}. Best is trial 95 with value: 0.8288935574229692.\u001b[0m\n"
     ]
    },
    {
     "name": "stderr",
     "output_type": "stream",
     "text": [
      " 72%|███████▎  | 145/200 [29:01<07:33,  8.25s/it]"
     ]
    },
    {
     "name": "stdout",
     "output_type": "stream",
     "text": [
      "\u001b[32m[I 2022-08-21 14:28:28,259]\u001b[0m Trial 144 finished with value: 0.8205602240896359 and parameters: {'depth': 7, 'learning_rate': 0.03771028560199997, 'random_strength': 12, 'l2_leaf_reg': 1.2083316270824367}. Best is trial 95 with value: 0.8288935574229692.\u001b[0m\n"
     ]
    },
    {
     "name": "stderr",
     "output_type": "stream",
     "text": [
      " 73%|███████▎  | 146/200 [29:06<06:27,  7.17s/it]"
     ]
    },
    {
     "name": "stdout",
     "output_type": "stream",
     "text": [
      "\u001b[32m[I 2022-08-21 14:28:32,900]\u001b[0m Trial 145 finished with value: 0.8154901960784313 and parameters: {'depth': 3, 'learning_rate': 0.07147173577139417, 'random_strength': 8, 'l2_leaf_reg': 7.6055753280253295}. Best is trial 95 with value: 0.8288935574229692.\u001b[0m\n"
     ]
    },
    {
     "name": "stderr",
     "output_type": "stream",
     "text": [
      " 74%|███████▎  | 147/200 [29:12<06:00,  6.80s/it]"
     ]
    },
    {
     "name": "stdout",
     "output_type": "stream",
     "text": [
      "\u001b[32m[I 2022-08-21 14:28:38,859]\u001b[0m Trial 146 finished with value: 0.8222268907563024 and parameters: {'depth': 5, 'learning_rate': 0.049575442784246436, 'random_strength': 10, 'l2_leaf_reg': 3.7606231087879407}. Best is trial 95 with value: 0.8288935574229692.\u001b[0m\n"
     ]
    },
    {
     "name": "stderr",
     "output_type": "stream",
     "text": [
      " 74%|███████▍  | 148/200 [29:17<05:37,  6.50s/it]"
     ]
    },
    {
     "name": "stdout",
     "output_type": "stream",
     "text": [
      "\u001b[32m[I 2022-08-21 14:28:44,642]\u001b[0m Trial 147 finished with value: 0.8171988795518207 and parameters: {'depth': 5, 'learning_rate': 0.049256737811615166, 'random_strength': 10, 'l2_leaf_reg': 4.799342079363151}. Best is trial 95 with value: 0.8288935574229692.\u001b[0m\n"
     ]
    },
    {
     "name": "stderr",
     "output_type": "stream",
     "text": [
      " 74%|███████▍  | 149/200 [29:23<05:19,  6.26s/it]"
     ]
    },
    {
     "name": "stdout",
     "output_type": "stream",
     "text": [
      "\u001b[32m[I 2022-08-21 14:28:50,334]\u001b[0m Trial 148 finished with value: 0.8205182072829131 and parameters: {'depth': 5, 'learning_rate': 0.033861674712957486, 'random_strength': 11, 'l2_leaf_reg': 1.0765772113256833}. Best is trial 95 with value: 0.8288935574229692.\u001b[0m\n"
     ]
    },
    {
     "name": "stderr",
     "output_type": "stream",
     "text": [
      " 75%|███████▌  | 150/200 [29:29<05:04,  6.08s/it]"
     ]
    },
    {
     "name": "stdout",
     "output_type": "stream",
     "text": [
      "\u001b[32m[I 2022-08-21 14:28:56,018]\u001b[0m Trial 149 finished with value: 0.8222268907563024 and parameters: {'depth': 5, 'learning_rate': 0.05798912939871233, 'random_strength': 10, 'l2_leaf_reg': 4.332368709104921}. Best is trial 95 with value: 0.8288935574229692.\u001b[0m\n"
     ]
    },
    {
     "name": "stderr",
     "output_type": "stream",
     "text": [
      " 76%|███████▌  | 151/200 [29:35<04:54,  6.00s/it]"
     ]
    },
    {
     "name": "stdout",
     "output_type": "stream",
     "text": [
      "\u001b[32m[I 2022-08-21 14:29:01,832]\u001b[0m Trial 150 finished with value: 0.8188515406162464 and parameters: {'depth': 5, 'learning_rate': 0.05793410146680908, 'random_strength': 9, 'l2_leaf_reg': 4.460506937790585}. Best is trial 95 with value: 0.8288935574229692.\u001b[0m\n"
     ]
    },
    {
     "name": "stderr",
     "output_type": "stream",
     "text": [
      " 76%|███████▌  | 152/200 [29:41<04:46,  5.96s/it]"
     ]
    },
    {
     "name": "stdout",
     "output_type": "stream",
     "text": [
      "\u001b[32m[I 2022-08-21 14:29:07,703]\u001b[0m Trial 151 finished with value: 0.8205462184873948 and parameters: {'depth': 5, 'learning_rate': 0.04368814169775886, 'random_strength': 10, 'l2_leaf_reg': 4.148806846427322}. Best is trial 95 with value: 0.8288935574229692.\u001b[0m\n"
     ]
    },
    {
     "name": "stderr",
     "output_type": "stream",
     "text": [
      " 76%|███████▋  | 153/200 [29:46<04:37,  5.90s/it]"
     ]
    },
    {
     "name": "stdout",
     "output_type": "stream",
     "text": [
      "\u001b[32m[I 2022-08-21 14:29:13,440]\u001b[0m Trial 152 finished with value: 0.8171708683473389 and parameters: {'depth': 5, 'learning_rate': 0.05052555294963925, 'random_strength': 10, 'l2_leaf_reg': 3.8001269115628418}. Best is trial 95 with value: 0.8288935574229692.\u001b[0m\n"
     ]
    },
    {
     "name": "stderr",
     "output_type": "stream",
     "text": [
      " 77%|███████▋  | 154/200 [29:53<04:43,  6.17s/it]"
     ]
    },
    {
     "name": "stdout",
     "output_type": "stream",
     "text": [
      "\u001b[32m[I 2022-08-21 14:29:20,241]\u001b[0m Trial 153 finished with value: 0.8138375350140056 and parameters: {'depth': 6, 'learning_rate': 0.06520791894873426, 'random_strength': 11, 'l2_leaf_reg': 4.32095852665141}. Best is trial 95 with value: 0.8288935574229692.\u001b[0m\n"
     ]
    },
    {
     "name": "stderr",
     "output_type": "stream",
     "text": [
      " 78%|███████▊  | 155/200 [29:59<04:32,  6.05s/it]"
     ]
    },
    {
     "name": "stdout",
     "output_type": "stream",
     "text": [
      "\u001b[32m[I 2022-08-21 14:29:26,025]\u001b[0m Trial 154 finished with value: 0.8171988795518207 and parameters: {'depth': 5, 'learning_rate': 0.02923528417821914, 'random_strength': 9, 'l2_leaf_reg': 4.5565827837931066}. Best is trial 95 with value: 0.8288935574229692.\u001b[0m\n"
     ]
    },
    {
     "name": "stderr",
     "output_type": "stream",
     "text": [
      " 78%|███████▊  | 156/200 [30:06<04:36,  6.28s/it]"
     ]
    },
    {
     "name": "stdout",
     "output_type": "stream",
     "text": [
      "\u001b[32m[I 2022-08-21 14:29:32,842]\u001b[0m Trial 155 finished with value: 0.8188795518207284 and parameters: {'depth': 6, 'learning_rate': 0.03877966319219647, 'random_strength': 10, 'l2_leaf_reg': 4.037843179579272}. Best is trial 95 with value: 0.8288935574229692.\u001b[0m\n"
     ]
    },
    {
     "name": "stderr",
     "output_type": "stream",
     "text": [
      " 78%|███████▊  | 157/200 [30:11<04:15,  5.95s/it]"
     ]
    },
    {
     "name": "stdout",
     "output_type": "stream",
     "text": [
      "\u001b[32m[I 2022-08-21 14:29:38,024]\u001b[0m Trial 156 finished with value: 0.8255742296918767 and parameters: {'depth': 4, 'learning_rate': 0.055041100538825216, 'random_strength': 12, 'l2_leaf_reg': 3.7025822334854808}. Best is trial 95 with value: 0.8288935574229692.\u001b[0m\n"
     ]
    },
    {
     "name": "stderr",
     "output_type": "stream",
     "text": [
      " 79%|███████▉  | 158/200 [30:16<04:00,  5.73s/it]"
     ]
    },
    {
     "name": "stdout",
     "output_type": "stream",
     "text": [
      "\u001b[32m[I 2022-08-21 14:29:43,224]\u001b[0m Trial 157 finished with value: 0.8188795518207282 and parameters: {'depth': 4, 'learning_rate': 0.0782477884304069, 'random_strength': 12, 'l2_leaf_reg': 3.58367967137768}. Best is trial 95 with value: 0.8288935574229692.\u001b[0m\n"
     ]
    },
    {
     "name": "stderr",
     "output_type": "stream",
     "text": [
      " 80%|███████▉  | 159/200 [30:21<03:46,  5.51s/it]"
     ]
    },
    {
     "name": "stdout",
     "output_type": "stream",
     "text": [
      "\u001b[32m[I 2022-08-21 14:29:48,246]\u001b[0m Trial 158 finished with value: 0.8138375350140056 and parameters: {'depth': 4, 'learning_rate': 0.05707658585782349, 'random_strength': 12, 'l2_leaf_reg': 3.684446131596188}. Best is trial 95 with value: 0.8288935574229692.\u001b[0m\n"
     ]
    },
    {
     "name": "stderr",
     "output_type": "stream",
     "text": [
      " 80%|████████  | 160/200 [30:25<03:21,  5.03s/it]"
     ]
    },
    {
     "name": "stdout",
     "output_type": "stream",
     "text": [
      "\u001b[32m[I 2022-08-21 14:29:52,151]\u001b[0m Trial 159 finished with value: 0.8088095238095236 and parameters: {'depth': 2, 'learning_rate': 0.0457268232959948, 'random_strength': 11, 'l2_leaf_reg': 3.8870946327516247}. Best is trial 95 with value: 0.8288935574229692.\u001b[0m\n"
     ]
    },
    {
     "name": "stderr",
     "output_type": "stream",
     "text": [
      " 80%|████████  | 161/200 [30:30<03:16,  5.04s/it]"
     ]
    },
    {
     "name": "stdout",
     "output_type": "stream",
     "text": [
      "\u001b[32m[I 2022-08-21 14:29:57,205]\u001b[0m Trial 160 finished with value: 0.8155042016806722 and parameters: {'depth': 4, 'learning_rate': 0.06892320897901923, 'random_strength': 7, 'l2_leaf_reg': 5.301297343784486}. Best is trial 95 with value: 0.8288935574229692.\u001b[0m\n"
     ]
    },
    {
     "name": "stderr",
     "output_type": "stream",
     "text": [
      " 81%|████████  | 162/200 [30:36<03:19,  5.25s/it]"
     ]
    },
    {
     "name": "stdout",
     "output_type": "stream",
     "text": [
      "\u001b[32m[I 2022-08-21 14:30:02,939]\u001b[0m Trial 161 finished with value: 0.8138235294117646 and parameters: {'depth': 5, 'learning_rate': 0.03258504458835677, 'random_strength': 11, 'l2_leaf_reg': 4.177841162287571}. Best is trial 95 with value: 0.8288935574229692.\u001b[0m\n"
     ]
    },
    {
     "name": "stderr",
     "output_type": "stream",
     "text": [
      " 82%|████████▏ | 163/200 [30:44<03:47,  6.16s/it]"
     ]
    },
    {
     "name": "stdout",
     "output_type": "stream",
     "text": [
      "\u001b[32m[I 2022-08-21 14:30:11,222]\u001b[0m Trial 162 finished with value: 0.8238935574229693 and parameters: {'depth': 7, 'learning_rate': 0.052300999333687974, 'random_strength': 10, 'l2_leaf_reg': 1.5963938265879887}. Best is trial 95 with value: 0.8288935574229692.\u001b[0m\n"
     ]
    },
    {
     "name": "stderr",
     "output_type": "stream",
     "text": [
      " 82%|████████▏ | 164/200 [30:52<04:00,  6.68s/it]"
     ]
    },
    {
     "name": "stdout",
     "output_type": "stream",
     "text": [
      "\u001b[32m[I 2022-08-21 14:30:19,106]\u001b[0m Trial 163 finished with value: 0.8171848739495798 and parameters: {'depth': 7, 'learning_rate': 0.03895758783016706, 'random_strength': 10, 'l2_leaf_reg': 4.401114148446754}. Best is trial 95 with value: 0.8288935574229692.\u001b[0m\n"
     ]
    },
    {
     "name": "stderr",
     "output_type": "stream",
     "text": [
      " 82%|████████▎ | 165/200 [31:00<04:08,  7.11s/it]"
     ]
    },
    {
     "name": "stdout",
     "output_type": "stream",
     "text": [
      "\u001b[32m[I 2022-08-21 14:30:27,238]\u001b[0m Trial 164 finished with value: 0.8222408963585435 and parameters: {'depth': 7, 'learning_rate': 0.05311244932787953, 'random_strength': 9, 'l2_leaf_reg': 1.576091491470214}. Best is trial 95 with value: 0.8288935574229692.\u001b[0m\n"
     ]
    },
    {
     "name": "stderr",
     "output_type": "stream",
     "text": [
      " 83%|████████▎ | 166/200 [31:07<04:00,  7.08s/it]"
     ]
    },
    {
     "name": "stdout",
     "output_type": "stream",
     "text": [
      "\u001b[32m[I 2022-08-21 14:30:34,249]\u001b[0m Trial 165 finished with value: 0.8221988795518207 and parameters: {'depth': 6, 'learning_rate': 0.059561289382917174, 'random_strength': 9, 'l2_leaf_reg': 1.6233580608671043}. Best is trial 95 with value: 0.8288935574229692.\u001b[0m\n"
     ]
    },
    {
     "name": "stderr",
     "output_type": "stream",
     "text": [
      " 84%|████████▎ | 167/200 [31:11<03:27,  6.28s/it]"
     ]
    },
    {
     "name": "stdout",
     "output_type": "stream",
     "text": [
      "\u001b[32m[I 2022-08-21 14:30:38,642]\u001b[0m Trial 166 finished with value: 0.8004061624649859 and parameters: {'depth': 3, 'learning_rate': 0.049129918927514546, 'random_strength': 10, 'l2_leaf_reg': 1.466434291707609}. Best is trial 95 with value: 0.8288935574229692.\u001b[0m\n"
     ]
    },
    {
     "name": "stderr",
     "output_type": "stream",
     "text": [
      " 84%|████████▍ | 168/200 [31:20<03:39,  6.85s/it]"
     ]
    },
    {
     "name": "stdout",
     "output_type": "stream",
     "text": [
      "\u001b[32m[I 2022-08-21 14:30:46,835]\u001b[0m Trial 167 finished with value: 0.8255742296918769 and parameters: {'depth': 7, 'learning_rate': 0.042953161953927864, 'random_strength': 13, 'l2_leaf_reg': 1.740030773190615}. Best is trial 95 with value: 0.8288935574229692.\u001b[0m\n"
     ]
    },
    {
     "name": "stderr",
     "output_type": "stream",
     "text": [
      " 84%|████████▍ | 169/200 [31:28<03:42,  7.19s/it]"
     ]
    },
    {
     "name": "stdout",
     "output_type": "stream",
     "text": [
      "\u001b[32m[I 2022-08-21 14:30:54,817]\u001b[0m Trial 168 finished with value: 0.8104761904761905 and parameters: {'depth': 7, 'learning_rate': 0.04385209574603158, 'random_strength': 14, 'l2_leaf_reg': 1.3284718130358983}. Best is trial 95 with value: 0.8288935574229692.\u001b[0m\n"
     ]
    },
    {
     "name": "stderr",
     "output_type": "stream",
     "text": [
      " 85%|████████▌ | 170/200 [31:35<03:41,  7.38s/it]"
     ]
    },
    {
     "name": "stdout",
     "output_type": "stream",
     "text": [
      "\u001b[32m[I 2022-08-21 14:31:02,641]\u001b[0m Trial 169 finished with value: 0.8222268907563025 and parameters: {'depth': 7, 'learning_rate': 0.0357689525272979, 'random_strength': 13, 'l2_leaf_reg': 1.7208137639977414}. Best is trial 95 with value: 0.8288935574229692.\u001b[0m\n"
     ]
    },
    {
     "name": "stderr",
     "output_type": "stream",
     "text": [
      " 86%|████████▌ | 171/200 [31:43<03:35,  7.44s/it]"
     ]
    },
    {
     "name": "stdout",
     "output_type": "stream",
     "text": [
      "\u001b[32m[I 2022-08-21 14:31:10,220]\u001b[0m Trial 170 finished with value: 0.8138095238095238 and parameters: {'depth': 7, 'learning_rate': 0.025963185932220707, 'random_strength': 13, 'l2_leaf_reg': 1.7211528380522374}. Best is trial 95 with value: 0.8288935574229692.\u001b[0m\n"
     ]
    },
    {
     "name": "stderr",
     "output_type": "stream",
     "text": [
      " 86%|████████▌ | 172/200 [31:51<03:33,  7.63s/it]"
     ]
    },
    {
     "name": "stdout",
     "output_type": "stream",
     "text": [
      "\u001b[32m[I 2022-08-21 14:31:18,310]\u001b[0m Trial 171 finished with value: 0.8154901960784315 and parameters: {'depth': 7, 'learning_rate': 0.03617438584703353, 'random_strength': 14, 'l2_leaf_reg': 1.7950981270215798}. Best is trial 95 with value: 0.8288935574229692.\u001b[0m\n"
     ]
    },
    {
     "name": "stderr",
     "output_type": "stream",
     "text": [
      " 86%|████████▋ | 173/200 [31:59<03:30,  7.80s/it]"
     ]
    },
    {
     "name": "stdout",
     "output_type": "stream",
     "text": [
      "\u001b[32m[I 2022-08-21 14:31:26,500]\u001b[0m Trial 172 finished with value: 0.8154901960784315 and parameters: {'depth': 7, 'learning_rate': 0.054773078650391264, 'random_strength': 13, 'l2_leaf_reg': 1.5345335106750082}. Best is trial 95 with value: 0.8288935574229692.\u001b[0m\n"
     ]
    },
    {
     "name": "stderr",
     "output_type": "stream",
     "text": [
      " 87%|████████▋ | 174/200 [32:07<03:25,  7.90s/it]"
     ]
    },
    {
     "name": "stdout",
     "output_type": "stream",
     "text": [
      "\u001b[32m[I 2022-08-21 14:31:34,622]\u001b[0m Trial 173 finished with value: 0.8071288515406161 and parameters: {'depth': 7, 'learning_rate': 0.04209969646772518, 'random_strength': 12, 'l2_leaf_reg': 9.806291212621023}. Best is trial 95 with value: 0.8288935574229692.\u001b[0m\n"
     ]
    },
    {
     "name": "stderr",
     "output_type": "stream",
     "text": [
      " 88%|████████▊ | 175/200 [32:16<03:20,  8.01s/it]"
     ]
    },
    {
     "name": "stdout",
     "output_type": "stream",
     "text": [
      "\u001b[32m[I 2022-08-21 14:31:42,895]\u001b[0m Trial 174 finished with value: 0.8171988795518208 and parameters: {'depth': 7, 'learning_rate': 0.07823876618869129, 'random_strength': 14, 'l2_leaf_reg': 1.6645026209618057}. Best is trial 95 with value: 0.8288935574229692.\u001b[0m\n"
     ]
    },
    {
     "name": "stderr",
     "output_type": "stream",
     "text": [
      " 88%|████████▊ | 176/200 [32:24<03:14,  8.10s/it]"
     ]
    },
    {
     "name": "stdout",
     "output_type": "stream",
     "text": [
      "\u001b[32m[I 2022-08-21 14:31:51,195]\u001b[0m Trial 175 finished with value: 0.8222268907563025 and parameters: {'depth': 7, 'learning_rate': 0.06433860452612535, 'random_strength': 13, 'l2_leaf_reg': 1.5832154032490875}. Best is trial 95 with value: 0.8288935574229692.\u001b[0m\n"
     ]
    },
    {
     "name": "stderr",
     "output_type": "stream",
     "text": [
      " 88%|████████▊ | 177/200 [32:32<03:06,  8.12s/it]"
     ]
    },
    {
     "name": "stdout",
     "output_type": "stream",
     "text": [
      "\u001b[32m[I 2022-08-21 14:31:59,365]\u001b[0m Trial 176 finished with value: 0.8138515406162463 and parameters: {'depth': 7, 'learning_rate': 0.06664625076952284, 'random_strength': 13, 'l2_leaf_reg': 1.5657536981326208}. Best is trial 95 with value: 0.8288935574229692.\u001b[0m\n"
     ]
    },
    {
     "name": "stderr",
     "output_type": "stream",
     "text": [
      " 89%|████████▉ | 178/200 [32:41<02:59,  8.18s/it]"
     ]
    },
    {
     "name": "stdout",
     "output_type": "stream",
     "text": [
      "\u001b[32m[I 2022-08-21 14:32:07,672]\u001b[0m Trial 177 finished with value: 0.8104761904761906 and parameters: {'depth': 7, 'learning_rate': 0.10087974459990394, 'random_strength': 14, 'l2_leaf_reg': 1.4064114821638705}. Best is trial 95 with value: 0.8288935574229692.\u001b[0m\n"
     ]
    },
    {
     "name": "stderr",
     "output_type": "stream",
     "text": [
      " 90%|████████▉ | 179/200 [32:49<02:52,  8.23s/it]"
     ]
    },
    {
     "name": "stdout",
     "output_type": "stream",
     "text": [
      "\u001b[32m[I 2022-08-21 14:32:16,025]\u001b[0m Trial 178 finished with value: 0.8222268907563025 and parameters: {'depth': 7, 'learning_rate': 0.04953770142113002, 'random_strength': 13, 'l2_leaf_reg': 1.779513004854766}. Best is trial 95 with value: 0.8288935574229692.\u001b[0m\n"
     ]
    },
    {
     "name": "stderr",
     "output_type": "stream",
     "text": [
      " 90%|█████████ | 180/200 [32:57<02:42,  8.12s/it]"
     ]
    },
    {
     "name": "stdout",
     "output_type": "stream",
     "text": [
      "\u001b[32m[I 2022-08-21 14:32:23,901]\u001b[0m Trial 179 finished with value: 0.8205602240896359 and parameters: {'depth': 7, 'learning_rate': 0.03608127575076125, 'random_strength': 13, 'l2_leaf_reg': 1.8805590013417544}. Best is trial 95 with value: 0.8288935574229692.\u001b[0m\n"
     ]
    },
    {
     "name": "stderr",
     "output_type": "stream",
     "text": [
      " 90%|█████████ | 181/200 [33:05<02:35,  8.20s/it]"
     ]
    },
    {
     "name": "stdout",
     "output_type": "stream",
     "text": [
      "\u001b[32m[I 2022-08-21 14:32:32,284]\u001b[0m Trial 180 finished with value: 0.8188795518207284 and parameters: {'depth': 7, 'learning_rate': 0.08906809595116094, 'random_strength': 13, 'l2_leaf_reg': 1.7843429714895889}. Best is trial 95 with value: 0.8288935574229692.\u001b[0m\n"
     ]
    },
    {
     "name": "stderr",
     "output_type": "stream",
     "text": [
      " 91%|█████████ | 182/200 [33:13<02:26,  8.16s/it]"
     ]
    },
    {
     "name": "stdout",
     "output_type": "stream",
     "text": [
      "\u001b[32m[I 2022-08-21 14:32:40,343]\u001b[0m Trial 181 finished with value: 0.8071428571428572 and parameters: {'depth': 7, 'learning_rate': 0.0508145284543559, 'random_strength': 13, 'l2_leaf_reg': 1.6501780012214424}. Best is trial 95 with value: 0.8288935574229692.\u001b[0m\n"
     ]
    },
    {
     "name": "stderr",
     "output_type": "stream",
     "text": [
      " 92%|█████████▏| 183/200 [33:21<02:18,  8.17s/it]"
     ]
    },
    {
     "name": "stdout",
     "output_type": "stream",
     "text": [
      "\u001b[32m[I 2022-08-21 14:32:48,553]\u001b[0m Trial 182 finished with value: 0.8239215686274509 and parameters: {'depth': 7, 'learning_rate': 0.04678067544720407, 'random_strength': 12, 'l2_leaf_reg': 1.4925899568133103}. Best is trial 95 with value: 0.8288935574229692.\u001b[0m\n"
     ]
    },
    {
     "name": "stderr",
     "output_type": "stream",
     "text": [
      " 92%|█████████▏| 184/200 [33:29<02:10,  8.14s/it]"
     ]
    },
    {
     "name": "stdout",
     "output_type": "stream",
     "text": [
      "\u001b[32m[I 2022-08-21 14:32:56,616]\u001b[0m Trial 183 finished with value: 0.8171988795518208 and parameters: {'depth': 7, 'learning_rate': 0.04463665032647087, 'random_strength': 12, 'l2_leaf_reg': 1.5282817493601881}. Best is trial 95 with value: 0.8288935574229692.\u001b[0m\n"
     ]
    },
    {
     "name": "stderr",
     "output_type": "stream",
     "text": [
      " 92%|█████████▎| 185/200 [33:38<02:02,  8.16s/it]"
     ]
    },
    {
     "name": "stdout",
     "output_type": "stream",
     "text": [
      "\u001b[32m[I 2022-08-21 14:33:04,805]\u001b[0m Trial 184 finished with value: 0.8138375350140057 and parameters: {'depth': 7, 'learning_rate': 0.0617184017240046, 'random_strength': 12, 'l2_leaf_reg': 1.4778076030863827}. Best is trial 95 with value: 0.8288935574229692.\u001b[0m\n"
     ]
    },
    {
     "name": "stderr",
     "output_type": "stream",
     "text": [
      " 93%|█████████▎| 186/200 [33:45<01:52,  8.05s/it]"
     ]
    },
    {
     "name": "stdout",
     "output_type": "stream",
     "text": [
      "\u001b[32m[I 2022-08-21 14:33:12,601]\u001b[0m Trial 185 finished with value: 0.8238935574229691 and parameters: {'depth': 7, 'learning_rate': 0.029559402293754856, 'random_strength': 14, 'l2_leaf_reg': 1.725239662399517}. Best is trial 95 with value: 0.8288935574229692.\u001b[0m\n"
     ]
    },
    {
     "name": "stderr",
     "output_type": "stream",
     "text": [
      " 94%|█████████▎| 187/200 [33:55<01:50,  8.48s/it]"
     ]
    },
    {
     "name": "stdout",
     "output_type": "stream",
     "text": [
      "\u001b[32m[I 2022-08-21 14:33:22,093]\u001b[0m Trial 186 finished with value: 0.8205602240896359 and parameters: {'depth': 8, 'learning_rate': 0.022900514192067983, 'random_strength': 15, 'l2_leaf_reg': 1.7032822457122534}. Best is trial 95 with value: 0.8288935574229692.\u001b[0m\n"
     ]
    },
    {
     "name": "stderr",
     "output_type": "stream",
     "text": [
      " 94%|█████████▍| 188/200 [34:03<01:38,  8.24s/it]"
     ]
    },
    {
     "name": "stdout",
     "output_type": "stream",
     "text": [
      "\u001b[32m[I 2022-08-21 14:33:29,763]\u001b[0m Trial 187 finished with value: 0.8188655462184873 and parameters: {'depth': 7, 'learning_rate': 0.02862496346656591, 'random_strength': 15, 'l2_leaf_reg': 1.9850988086006909}. Best is trial 95 with value: 0.8288935574229692.\u001b[0m\n"
     ]
    },
    {
     "name": "stderr",
     "output_type": "stream",
     "text": [
      " 94%|█████████▍| 189/200 [34:10<01:26,  7.86s/it]"
     ]
    },
    {
     "name": "stdout",
     "output_type": "stream",
     "text": [
      "\u001b[32m[I 2022-08-21 14:33:36,727]\u001b[0m Trial 188 finished with value: 0.8087955182072829 and parameters: {'depth': 6, 'learning_rate': 0.031923753481512794, 'random_strength': 14, 'l2_leaf_reg': 1.8258801539530287}. Best is trial 95 with value: 0.8288935574229692.\u001b[0m\n"
     ]
    },
    {
     "name": "stderr",
     "output_type": "stream",
     "text": [
      " 95%|█████████▌| 190/200 [34:18<01:19,  7.91s/it]"
     ]
    },
    {
     "name": "stdout",
     "output_type": "stream",
     "text": [
      "\u001b[32m[I 2022-08-21 14:33:44,756]\u001b[0m Trial 189 finished with value: 0.8154901960784315 and parameters: {'depth': 7, 'learning_rate': 0.03856203381256178, 'random_strength': 13, 'l2_leaf_reg': 1.5661552744630765}. Best is trial 95 with value: 0.8288935574229692.\u001b[0m\n"
     ]
    },
    {
     "name": "stderr",
     "output_type": "stream",
     "text": [
      " 96%|█████████▌| 191/200 [34:27<01:15,  8.41s/it]"
     ]
    },
    {
     "name": "stdout",
     "output_type": "stream",
     "text": [
      "\u001b[32m[I 2022-08-21 14:33:54,355]\u001b[0m Trial 190 finished with value: 0.8155182072829132 and parameters: {'depth': 8, 'learning_rate': 0.026631060462408995, 'random_strength': 14, 'l2_leaf_reg': 1.6199568768670616}. Best is trial 95 with value: 0.8288935574229692.\u001b[0m\n"
     ]
    },
    {
     "name": "stderr",
     "output_type": "stream",
     "text": [
      " 96%|█████████▌| 192/200 [34:35<01:06,  8.34s/it]"
     ]
    },
    {
     "name": "stdout",
     "output_type": "stream",
     "text": [
      "\u001b[32m[I 2022-08-21 14:34:02,515]\u001b[0m Trial 191 finished with value: 0.8171708683473391 and parameters: {'depth': 7, 'learning_rate': 0.04535683868523232, 'random_strength': 13, 'l2_leaf_reg': 1.7394918213201385}. Best is trial 95 with value: 0.8288935574229692.\u001b[0m\n"
     ]
    },
    {
     "name": "stderr",
     "output_type": "stream",
     "text": [
      " 96%|█████████▋| 193/200 [34:43<00:57,  8.23s/it]"
     ]
    },
    {
     "name": "stdout",
     "output_type": "stream",
     "text": [
      "\u001b[32m[I 2022-08-21 14:34:10,491]\u001b[0m Trial 192 finished with value: 0.8188515406162467 and parameters: {'depth': 7, 'learning_rate': 0.05240950551641598, 'random_strength': 12, 'l2_leaf_reg': 1.5898894745654983}. Best is trial 95 with value: 0.8288935574229692.\u001b[0m\n"
     ]
    },
    {
     "name": "stderr",
     "output_type": "stream",
     "text": [
      " 97%|█████████▋| 194/200 [34:51<00:49,  8.19s/it]"
     ]
    },
    {
     "name": "stdout",
     "output_type": "stream",
     "text": [
      "\u001b[32m[I 2022-08-21 14:34:18,586]\u001b[0m Trial 193 finished with value: 0.8138375350140057 and parameters: {'depth': 7, 'learning_rate': 0.04012851995856289, 'random_strength': 12, 'l2_leaf_reg': 1.4229612097195707}. Best is trial 95 with value: 0.8288935574229692.\u001b[0m\n"
     ]
    },
    {
     "name": "stderr",
     "output_type": "stream",
     "text": [
      " 98%|█████████▊| 195/200 [34:59<00:40,  8.11s/it]"
     ]
    },
    {
     "name": "stdout",
     "output_type": "stream",
     "text": [
      "\u001b[32m[I 2022-08-21 14:34:26,503]\u001b[0m Trial 194 finished with value: 0.8255602240896358 and parameters: {'depth': 7, 'learning_rate': 0.03308089886250604, 'random_strength': 13, 'l2_leaf_reg': 1.489197541306579}. Best is trial 95 with value: 0.8288935574229692.\u001b[0m\n"
     ]
    },
    {
     "name": "stderr",
     "output_type": "stream",
     "text": [
      " 98%|█████████▊| 196/200 [35:20<00:47, 11.95s/it]"
     ]
    },
    {
     "name": "stdout",
     "output_type": "stream",
     "text": [
      "\u001b[32m[I 2022-08-21 14:34:47,431]\u001b[0m Trial 195 finished with value: 0.8138375350140057 and parameters: {'depth': 10, 'learning_rate': 0.0335047576910266, 'random_strength': 13, 'l2_leaf_reg': 1.392427570506799}. Best is trial 95 with value: 0.8288935574229692.\u001b[0m\n"
     ]
    },
    {
     "name": "stderr",
     "output_type": "stream",
     "text": [
      " 98%|█████████▊| 197/200 [35:28<00:32, 10.68s/it]"
     ]
    },
    {
     "name": "stdout",
     "output_type": "stream",
     "text": [
      "\u001b[32m[I 2022-08-21 14:34:55,125]\u001b[0m Trial 196 finished with value: 0.8188795518207282 and parameters: {'depth': 7, 'learning_rate': 0.022172353508060273, 'random_strength': 16, 'l2_leaf_reg': 1.4806233511173374}. Best is trial 95 with value: 0.8288935574229692.\u001b[0m\n"
     ]
    },
    {
     "name": "stderr",
     "output_type": "stream",
     "text": [
      " 99%|█████████▉| 198/200 [35:38<00:20, 10.45s/it]"
     ]
    },
    {
     "name": "stdout",
     "output_type": "stream",
     "text": [
      "\u001b[32m[I 2022-08-21 14:35:05,054]\u001b[0m Trial 197 finished with value: 0.8155042016806723 and parameters: {'depth': 8, 'learning_rate': 0.03191721686221072, 'random_strength': 11, 'l2_leaf_reg': 1.0451677858609174}. Best is trial 95 with value: 0.8288935574229692.\u001b[0m\n"
     ]
    },
    {
     "name": "stderr",
     "output_type": "stream",
     "text": [
      "100%|█████████▉| 199/200 [35:46<00:09,  9.83s/it]"
     ]
    },
    {
     "name": "stdout",
     "output_type": "stream",
     "text": [
      "\u001b[32m[I 2022-08-21 14:35:13,449]\u001b[0m Trial 198 finished with value: 0.8155042016806723 and parameters: {'depth': 7, 'learning_rate': 0.07632396418239634, 'random_strength': 14, 'l2_leaf_reg': 1.7144931579144895}. Best is trial 95 with value: 0.8288935574229692.\u001b[0m\n"
     ]
    },
    {
     "name": "stderr",
     "output_type": "stream",
     "text": [
      "100%|██████████| 200/200 [35:53<00:00, 10.77s/it]\n"
     ]
    },
    {
     "name": "stdout",
     "output_type": "stream",
     "text": [
      "\u001b[32m[I 2022-08-21 14:35:20,066]\u001b[0m Trial 199 finished with value: 0.8070868347338935 and parameters: {'depth': 6, 'learning_rate': 0.027596510883966502, 'random_strength': 12, 'l2_leaf_reg': 1.3495108074068614}. Best is trial 95 with value: 0.8288935574229692.\u001b[0m\n",
      "{'depth': '7', 'l2_leaf_reg': '3.7763820094293927', 'learning_rate': '0.0655449752625249', 'random_strength': '10'}\n"
     ]
    }
   ],
   "source": [
    "with mlflow.start_run() as run:\n",
    "    objective = create_objective(x_tr, y_tr)\n",
    "    study = optuna.create_study(direction='maximize')\n",
    "    study.optimize(objective, n_trials=200, show_progress_bar=True)\n",
    "    params = log_best(run)\n",
    "    print(params)\n",
    "    \n"
   ]
  },
  {
   "cell_type": "markdown",
   "metadata": {},
   "source": [
    "先ほどのノートブックと同様にしてMLFlow tracking UIで結果を可視化できます."
   ]
  },
  {
   "cell_type": "markdown",
   "metadata": {},
   "source": []
  }
 ],
 "metadata": {
  "kernelspec": {
   "display_name": "Python 3.9.13 ('venv': venv)",
   "language": "python",
   "name": "python3"
  },
  "language_info": {
   "codemirror_mode": {
    "name": "ipython",
    "version": 3
   },
   "file_extension": ".py",
   "mimetype": "text/x-python",
   "name": "python",
   "nbconvert_exporter": "python",
   "pygments_lexer": "ipython3",
   "version": "3.9.13"
  },
  "orig_nbformat": 4,
  "vscode": {
   "interpreter": {
    "hash": "4fecf34550a9eb89965b32c32579af059f126f25965a94989338a49a12bc8dcc"
   }
  }
 },
 "nbformat": 4,
 "nbformat_minor": 2
}
