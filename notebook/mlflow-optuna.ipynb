{
 "cells": [
  {
   "cell_type": "markdown",
   "metadata": {},
   "source": [
    "このノートブックでは, これまでに定義した関数を用いてOptunaによるハイパーパラメータ最適化の結果をMLFlow trackingで記録します."
   ]
  },
  {
   "cell_type": "code",
   "execution_count": 1,
   "metadata": {},
   "outputs": [],
   "source": [
    "from typing import Any, Dict, Tuple, List\n",
    "import category_encoders as ce\n",
    "import seaborn as sns\n",
    "from sklearn.model_selection import train_test_split\n",
    "from sklearn.metrics import f1_score\n",
    "from sklearn.pipeline import Pipeline, make_pipeline\n",
    "from sklearn.model_selection import cross_val_score\n",
    "from catboost import CatBoostClassifier\n",
    "from pandas import DataFrame\n",
    "import optuna\n",
    "import mlflow\n",
    "\n",
    "df = sns.load_dataset('titanic')\n",
    "df.head()\n",
    "\n",
    "# 必要な特徴量を抽出\n",
    "feature_names = [\n",
    "    'class',\n",
    "    'sex',\n",
    "    'age',\n",
    "    'sibsp',\n",
    "    'parch',\n",
    "    'fare',\n",
    "    'embark_town',\n",
    "    'deck',\n",
    "]\n",
    "df_x = df[feature_names]\n",
    "df_y = df['survived']\n",
    "\n",
    "class IntOrdEncoder(ce.OrdinalEncoder):\n",
    "    def __init__(self, cols, mapping, handle_unknown):\n",
    "        super().__init__(cols=cols, mapping=mapping, handle_unknown=handle_unknown)\n",
    "        self.cols = cols\n",
    "\n",
    "    def transform(self, *args, **kwargs):\n",
    "        \"\"\"xはpd.DataFrameです.\n",
    "        \"\"\"\n",
    "        x = super().transform(*args, **kwargs)\n",
    "        for col in self.cols:\n",
    "            x[col] = x[col].astype(int)\n",
    "\n",
    "        return x\n",
    "\n",
    "    def fit_transform(self, *args, **kwargs):\n",
    "        \"\"\"xはpd.DataFrameです.\n",
    "        \"\"\"\n",
    "        x = super().fit_transform(*args, **kwargs)\n",
    "        for col in self.cols:\n",
    "            x[col] = x[col].astype(int)\n",
    "\n",
    "        return x\n",
    "\n",
    "\n",
    "x_tr, x_te, y_tr, y_te = train_test_split(df_x, df_y, test_size=0.33, shuffle=True, random_state=42)\n",
    "\n",
    "\n",
    "def titanic_cat_encoder() -> Tuple[List[str], ce.OrdinalEncoder]:\n",
    "    cols = ['class', 'sex', 'embark_town', 'deck']\n",
    "    mapping = [\n",
    "        {\"col\": \"class\", \"mapping\": {\"First\": 0, \"Second\": 1, \"Third\": 2}},\n",
    "        {\"col\": \"sex\", \"mapping\": {\"male\": 0, \"female\": 1}},\n",
    "        {\"col\": \"embark_town\", \"mapping\": {\"Southampton\": 0, \"Cherbourg\": 1, \"Queenstown\": 2}},\n",
    "        {\"col\": \"deck\", \"mapping\": {\"A\": 0, \"B\": 1, \"C\": 2, \"D\": 3, \"E\": 4, \"F\": 5, \"G\": 6}},\n",
    "    ]\n",
    "    return (cols, IntOrdEncoder(cols=cols, mapping=mapping, handle_unknown='value'))\n",
    "\n",
    "\n",
    "def fit_eval(x, y, encoder, params, cols, nested):\n",
    "    with mlflow.start_run(nested=nested):\n",
    "        mlflow.log_param(\"iterations\", params[\"iterations\"])\n",
    "        mlflow.log_param(\"cat_features\", params[\"cat_features\"])\n",
    "\n",
    "        # cat_featuresを正しい値に設定\n",
    "        cat_features = None if params[\"cat_features\"] == \"none\" else cols\n",
    "        params[\"cat_features\"] = cat_features\n",
    "\n",
    "        # パイプラインを構成\n",
    "        clf = CatBoostClassifier(\n",
    "            **params,\n",
    "            verbose=False\n",
    "        )\n",
    "        pipe = make_pipeline(encoder, clf)\n",
    "\n",
    "        # スコアを計算\n",
    "        score = cross_val_score(pipe, x, y, cv=5).mean()\n",
    "        mlflow.log_metric(\"cv_score\", score)\n",
    "\n",
    "        return score\n",
    "\n",
    "\n",
    "def suggest_params(trial: optuna.Trial) -> Dict:\n",
    "    # Catboostの繰り返し回数\n",
    "    iterations = trial.suggest_categorical(\"iterations\", [200, 1000])\n",
    "\n",
    "    # cat_featuresは本来は列名のリストとして与えられますが,\n",
    "    # ここではログを表示した時の見やすさのために仮の値をセットしています.\n",
    "    cat_features = trial.suggest_categorical(\"cat_features\", [\"none\", \"given\"])\n",
    "\n",
    "    return {\n",
    "        \"iterations\": iterations,\n",
    "        \"cat_features\": cat_features,\n",
    "    }\n"
   ]
  },
  {
   "cell_type": "markdown",
   "metadata": {},
   "source": [
    "Optunaで利用するための目的関数を定義します. 既に下位のRunで訓練と評価を行いログを取る関数を定義しているので, ハイパーパラメータに対する評価を返す関数を定義します."
   ]
  },
  {
   "cell_type": "code",
   "execution_count": 2,
   "metadata": {},
   "outputs": [],
   "source": [
    "def create_objective(x: DataFrame, y: DataFrame) -> Any:  # 戻り値の型は後で書く\n",
    "    (cols, encoder) = titanic_cat_encoder()\n",
    "\n",
    "    def objective(trial: optuna.Trial) -> Any:  # 戻り値の型は後で書く\n",
    "        params = suggest_params(trial)\n",
    "\n",
    "        return fit_eval(x, y, encoder, params, cols, nested=True)\n",
    "\n",
    "    return objective"
   ]
  },
  {
   "cell_type": "markdown",
   "metadata": {},
   "source": [
    "あとはMLFlowの上位のRunを開始し, この関数をOptunaに与えます."
   ]
  },
  {
   "cell_type": "code",
   "execution_count": 3,
   "metadata": {},
   "outputs": [
    {
     "name": "stderr",
     "output_type": "stream",
     "text": [
      "\u001b[32m[I 2022-06-26 11:22:08,232]\u001b[0m A new study created in memory with name: no-name-4726e414-719b-4477-a0e9-c6cac307e00c\u001b[0m\n",
      "/Users/taku-y/git/github/PyDataOsaka/learn-mlflow/venv/lib/python3.9/site-packages/optuna/progress_bar.py:47: ExperimentalWarning: Progress bar is experimental (supported from v1.2.0). The interface can change in the future.\n",
      "  self._init_valid()\n"
     ]
    },
    {
     "data": {
      "application/vnd.jupyter.widget-view+json": {
       "model_id": "16e78aaea0bc4d96a02f67b88cdfb675",
       "version_major": 2,
       "version_minor": 0
      },
      "text/plain": [
       "  0%|          | 0/10 [00:00<?, ?it/s]"
      ]
     },
     "metadata": {},
     "output_type": "display_data"
    },
    {
     "name": "stdout",
     "output_type": "stream",
     "text": [
      "\u001b[32m[I 2022-06-26 11:22:13,617]\u001b[0m Trial 0 finished with value: 0.82390756302521 and parameters: {'iterations': 1000, 'cat_features': 'given'}. Best is trial 0 with value: 0.82390756302521.\u001b[0m\n",
      "\u001b[32m[I 2022-06-26 11:22:16,349]\u001b[0m Trial 1 finished with value: 0.8155042016806722 and parameters: {'iterations': 1000, 'cat_features': 'none'}. Best is trial 0 with value: 0.82390756302521.\u001b[0m\n",
      "\u001b[32m[I 2022-06-26 11:22:21,800]\u001b[0m Trial 2 finished with value: 0.82390756302521 and parameters: {'iterations': 1000, 'cat_features': 'given'}. Best is trial 0 with value: 0.82390756302521.\u001b[0m\n",
      "\u001b[32m[I 2022-06-26 11:22:27,471]\u001b[0m Trial 3 finished with value: 0.82390756302521 and parameters: {'iterations': 1000, 'cat_features': 'given'}. Best is trial 0 with value: 0.82390756302521.\u001b[0m\n",
      "\u001b[32m[I 2022-06-26 11:22:28,663]\u001b[0m Trial 4 finished with value: 0.8205462184873948 and parameters: {'iterations': 200, 'cat_features': 'given'}. Best is trial 0 with value: 0.82390756302521.\u001b[0m\n",
      "\u001b[32m[I 2022-06-26 11:22:29,291]\u001b[0m Trial 5 finished with value: 0.8137955182072828 and parameters: {'iterations': 200, 'cat_features': 'none'}. Best is trial 0 with value: 0.82390756302521.\u001b[0m\n",
      "\u001b[32m[I 2022-06-26 11:22:35,376]\u001b[0m Trial 6 finished with value: 0.82390756302521 and parameters: {'iterations': 1000, 'cat_features': 'given'}. Best is trial 0 with value: 0.82390756302521.\u001b[0m\n",
      "\u001b[32m[I 2022-06-26 11:22:41,507]\u001b[0m Trial 7 finished with value: 0.82390756302521 and parameters: {'iterations': 1000, 'cat_features': 'given'}. Best is trial 0 with value: 0.82390756302521.\u001b[0m\n",
      "\u001b[32m[I 2022-06-26 11:22:44,305]\u001b[0m Trial 8 finished with value: 0.8155042016806722 and parameters: {'iterations': 1000, 'cat_features': 'none'}. Best is trial 0 with value: 0.82390756302521.\u001b[0m\n",
      "\u001b[32m[I 2022-06-26 11:22:44,942]\u001b[0m Trial 9 finished with value: 0.8137955182072828 and parameters: {'iterations': 200, 'cat_features': 'none'}. Best is trial 0 with value: 0.82390756302521.\u001b[0m\n"
     ]
    }
   ],
   "source": [
    "with mlflow.start_run():\n",
    "    objective = create_objective(x_tr, y_tr)\n",
    "    study = optuna.create_study(direction='maximize')\n",
    "    study.optimize(objective, n_trials=10, show_progress_bar=True)\n"
   ]
  },
  {
   "cell_type": "markdown",
   "metadata": {},
   "source": [
    "先ほどのノートブックと同様にしてMLFlow tracking UIで結果を可視化できます."
   ]
  },
  {
   "cell_type": "markdown",
   "metadata": {},
   "source": []
  }
 ],
 "metadata": {
  "kernelspec": {
   "display_name": "Python 3.9.0 ('venv': venv)",
   "language": "python",
   "name": "python3"
  },
  "language_info": {
   "codemirror_mode": {
    "name": "ipython",
    "version": 3
   },
   "file_extension": ".py",
   "mimetype": "text/x-python",
   "name": "python",
   "nbconvert_exporter": "python",
   "pygments_lexer": "ipython3",
   "version": "3.9.0"
  },
  "orig_nbformat": 4,
  "vscode": {
   "interpreter": {
    "hash": "64aebdd2a36b33efcd222d355b6ea7c69913615117cddeedd055a16d2fc3e88d"
   }
  }
 },
 "nbformat": 4,
 "nbformat_minor": 2
}
